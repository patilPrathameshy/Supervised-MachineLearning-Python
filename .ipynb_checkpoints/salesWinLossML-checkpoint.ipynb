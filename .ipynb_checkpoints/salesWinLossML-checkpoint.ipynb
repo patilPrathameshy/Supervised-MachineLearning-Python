{
 "cells": [
  {
   "cell_type": "code",
   "execution_count": 1,
   "id": "b8731a39",
   "metadata": {},
   "outputs": [],
   "source": [
    "import numpy as np\n",
    "import matplotlib.pyplot as plt\n",
    "import seaborn as sns\n",
    "import pandas as pd\n",
    "import warnings\n",
    "#importing warnings and filtering out warnings to ignore it\n",
    "warnings.filterwarnings(\"ignore\")"
   ]
  },
  {
   "cell_type": "code",
   "execution_count": 2,
   "id": "9a5dc740",
   "metadata": {},
   "outputs": [],
   "source": [
    "#reading csv data using pandas\n",
    "df = pd.read_csv('WA_Fn-UseC_-Sales-Win-Loss.csv')"
   ]
  },
  {
   "cell_type": "code",
   "execution_count": 3,
   "id": "e3a00482",
   "metadata": {},
   "outputs": [
    {
     "data": {
      "text/html": [
       "<div>\n",
       "<style scoped>\n",
       "    .dataframe tbody tr th:only-of-type {\n",
       "        vertical-align: middle;\n",
       "    }\n",
       "\n",
       "    .dataframe tbody tr th {\n",
       "        vertical-align: top;\n",
       "    }\n",
       "\n",
       "    .dataframe thead th {\n",
       "        text-align: right;\n",
       "    }\n",
       "</style>\n",
       "<table border=\"1\" class=\"dataframe\">\n",
       "  <thead>\n",
       "    <tr style=\"text-align: right;\">\n",
       "      <th></th>\n",
       "      <th>Opportunity Number</th>\n",
       "      <th>Supplies Subgroup</th>\n",
       "      <th>Supplies Group</th>\n",
       "      <th>Region</th>\n",
       "      <th>Route To Market</th>\n",
       "      <th>Elapsed Days In Sales Stage</th>\n",
       "      <th>Sales Stage Change Count</th>\n",
       "      <th>Total Days Identified Through Closing</th>\n",
       "      <th>Total Days Identified Through Qualified</th>\n",
       "      <th>Opportunity Amount USD</th>\n",
       "      <th>Client Size By Revenue</th>\n",
       "      <th>Client Size By Employee Count</th>\n",
       "      <th>Revenue From Client Past Two Years</th>\n",
       "      <th>Competitor Type</th>\n",
       "      <th>Ratio Days Identified To Total Days</th>\n",
       "      <th>Ratio Days Validated To Total Days</th>\n",
       "      <th>Ratio Days Qualified To Total Days</th>\n",
       "      <th>Deal Size Category</th>\n",
       "      <th>Opportunity Result</th>\n",
       "    </tr>\n",
       "  </thead>\n",
       "  <tbody>\n",
       "    <tr>\n",
       "      <th>0</th>\n",
       "      <td>1641984</td>\n",
       "      <td>Exterior Accessories</td>\n",
       "      <td>Car Accessories</td>\n",
       "      <td>Northwest</td>\n",
       "      <td>Fields Sales</td>\n",
       "      <td>76</td>\n",
       "      <td>13</td>\n",
       "      <td>104</td>\n",
       "      <td>101</td>\n",
       "      <td>0</td>\n",
       "      <td>5</td>\n",
       "      <td>5</td>\n",
       "      <td>0</td>\n",
       "      <td>Unknown</td>\n",
       "      <td>0.69636</td>\n",
       "      <td>0.113985</td>\n",
       "      <td>0.154215</td>\n",
       "      <td>1</td>\n",
       "      <td>Won</td>\n",
       "    </tr>\n",
       "    <tr>\n",
       "      <th>1</th>\n",
       "      <td>1658010</td>\n",
       "      <td>Exterior Accessories</td>\n",
       "      <td>Car Accessories</td>\n",
       "      <td>Pacific</td>\n",
       "      <td>Reseller</td>\n",
       "      <td>63</td>\n",
       "      <td>2</td>\n",
       "      <td>163</td>\n",
       "      <td>163</td>\n",
       "      <td>0</td>\n",
       "      <td>3</td>\n",
       "      <td>5</td>\n",
       "      <td>0</td>\n",
       "      <td>Unknown</td>\n",
       "      <td>0.00000</td>\n",
       "      <td>1.000000</td>\n",
       "      <td>0.000000</td>\n",
       "      <td>1</td>\n",
       "      <td>Loss</td>\n",
       "    </tr>\n",
       "    <tr>\n",
       "      <th>2</th>\n",
       "      <td>1674737</td>\n",
       "      <td>Motorcycle Parts</td>\n",
       "      <td>Performance &amp; Non-auto</td>\n",
       "      <td>Pacific</td>\n",
       "      <td>Reseller</td>\n",
       "      <td>24</td>\n",
       "      <td>7</td>\n",
       "      <td>82</td>\n",
       "      <td>82</td>\n",
       "      <td>7750</td>\n",
       "      <td>1</td>\n",
       "      <td>1</td>\n",
       "      <td>0</td>\n",
       "      <td>Unknown</td>\n",
       "      <td>1.00000</td>\n",
       "      <td>0.000000</td>\n",
       "      <td>0.000000</td>\n",
       "      <td>1</td>\n",
       "      <td>Won</td>\n",
       "    </tr>\n",
       "    <tr>\n",
       "      <th>3</th>\n",
       "      <td>1675224</td>\n",
       "      <td>Shelters &amp; RV</td>\n",
       "      <td>Performance &amp; Non-auto</td>\n",
       "      <td>Midwest</td>\n",
       "      <td>Reseller</td>\n",
       "      <td>16</td>\n",
       "      <td>5</td>\n",
       "      <td>124</td>\n",
       "      <td>124</td>\n",
       "      <td>0</td>\n",
       "      <td>1</td>\n",
       "      <td>1</td>\n",
       "      <td>0</td>\n",
       "      <td>Known</td>\n",
       "      <td>1.00000</td>\n",
       "      <td>0.000000</td>\n",
       "      <td>0.000000</td>\n",
       "      <td>1</td>\n",
       "      <td>Loss</td>\n",
       "    </tr>\n",
       "    <tr>\n",
       "      <th>4</th>\n",
       "      <td>1689785</td>\n",
       "      <td>Exterior Accessories</td>\n",
       "      <td>Car Accessories</td>\n",
       "      <td>Pacific</td>\n",
       "      <td>Reseller</td>\n",
       "      <td>69</td>\n",
       "      <td>11</td>\n",
       "      <td>91</td>\n",
       "      <td>13</td>\n",
       "      <td>69756</td>\n",
       "      <td>1</td>\n",
       "      <td>1</td>\n",
       "      <td>0</td>\n",
       "      <td>Unknown</td>\n",
       "      <td>0.00000</td>\n",
       "      <td>0.141125</td>\n",
       "      <td>0.000000</td>\n",
       "      <td>4</td>\n",
       "      <td>Loss</td>\n",
       "    </tr>\n",
       "  </tbody>\n",
       "</table>\n",
       "</div>"
      ],
      "text/plain": [
       "   Opportunity Number     Supplies Subgroup          Supplies Group  \\\n",
       "0             1641984  Exterior Accessories         Car Accessories   \n",
       "1             1658010  Exterior Accessories         Car Accessories   \n",
       "2             1674737      Motorcycle Parts  Performance & Non-auto   \n",
       "3             1675224         Shelters & RV  Performance & Non-auto   \n",
       "4             1689785  Exterior Accessories         Car Accessories   \n",
       "\n",
       "      Region Route To Market  Elapsed Days In Sales Stage  \\\n",
       "0  Northwest    Fields Sales                           76   \n",
       "1    Pacific        Reseller                           63   \n",
       "2    Pacific        Reseller                           24   \n",
       "3    Midwest        Reseller                           16   \n",
       "4    Pacific        Reseller                           69   \n",
       "\n",
       "   Sales Stage Change Count  Total Days Identified Through Closing  \\\n",
       "0                        13                                    104   \n",
       "1                         2                                    163   \n",
       "2                         7                                     82   \n",
       "3                         5                                    124   \n",
       "4                        11                                     91   \n",
       "\n",
       "   Total Days Identified Through Qualified  Opportunity Amount USD  \\\n",
       "0                                      101                       0   \n",
       "1                                      163                       0   \n",
       "2                                       82                    7750   \n",
       "3                                      124                       0   \n",
       "4                                       13                   69756   \n",
       "\n",
       "   Client Size By Revenue  Client Size By Employee Count  \\\n",
       "0                       5                              5   \n",
       "1                       3                              5   \n",
       "2                       1                              1   \n",
       "3                       1                              1   \n",
       "4                       1                              1   \n",
       "\n",
       "   Revenue From Client Past Two Years Competitor Type  \\\n",
       "0                                   0         Unknown   \n",
       "1                                   0         Unknown   \n",
       "2                                   0         Unknown   \n",
       "3                                   0           Known   \n",
       "4                                   0         Unknown   \n",
       "\n",
       "   Ratio Days Identified To Total Days  Ratio Days Validated To Total Days  \\\n",
       "0                              0.69636                            0.113985   \n",
       "1                              0.00000                            1.000000   \n",
       "2                              1.00000                            0.000000   \n",
       "3                              1.00000                            0.000000   \n",
       "4                              0.00000                            0.141125   \n",
       "\n",
       "   Ratio Days Qualified To Total Days  Deal Size Category Opportunity Result  \n",
       "0                            0.154215                   1                Won  \n",
       "1                            0.000000                   1               Loss  \n",
       "2                            0.000000                   1                Won  \n",
       "3                            0.000000                   1               Loss  \n",
       "4                            0.000000                   4               Loss  "
      ]
     },
     "execution_count": 3,
     "metadata": {},
     "output_type": "execute_result"
    }
   ],
   "source": [
    "#reading top 5 records\n",
    "df.head()"
   ]
  },
  {
   "cell_type": "code",
   "execution_count": 51,
   "id": "735d7d0f",
   "metadata": {},
   "outputs": [],
   "source": [
    "df.drop(\"Opportunity Number\", axis=1, inplace=True)"
   ]
  },
  {
   "cell_type": "code",
   "execution_count": 52,
   "id": "922b0292",
   "metadata": {},
   "outputs": [
    {
     "name": "stdout",
     "output_type": "stream",
     "text": [
      "<class 'pandas.core.frame.DataFrame'>\n",
      "RangeIndex: 78025 entries, 0 to 78024\n",
      "Data columns (total 18 columns):\n",
      " #   Column                                   Non-Null Count  Dtype  \n",
      "---  ------                                   --------------  -----  \n",
      " 0   Supplies Subgroup                        78025 non-null  object \n",
      " 1   Supplies Group                           78025 non-null  object \n",
      " 2   Region                                   78025 non-null  object \n",
      " 3   Route To Market                          78025 non-null  object \n",
      " 4   Elapsed Days In Sales Stage              78025 non-null  int64  \n",
      " 5   Sales Stage Change Count                 78025 non-null  int64  \n",
      " 6   Total Days Identified Through Closing    78025 non-null  int64  \n",
      " 7   Total Days Identified Through Qualified  78025 non-null  int64  \n",
      " 8   Opportunity Amount USD                   78025 non-null  int64  \n",
      " 9   Client Size By Revenue                   78025 non-null  int64  \n",
      " 10  Client Size By Employee Count            78025 non-null  int64  \n",
      " 11  Revenue From Client Past Two Years       78025 non-null  int64  \n",
      " 12  Competitor Type                          78025 non-null  object \n",
      " 13  Ratio Days Identified To Total Days      78025 non-null  float64\n",
      " 14  Ratio Days Validated To Total Days       78025 non-null  float64\n",
      " 15  Ratio Days Qualified To Total Days       78025 non-null  float64\n",
      " 16  Deal Size Category                       78025 non-null  int64  \n",
      " 17  Opportunity Result                       78025 non-null  object \n",
      "dtypes: float64(3), int64(9), object(6)\n",
      "memory usage: 10.7+ MB\n"
     ]
    }
   ],
   "source": [
    "#info helps get quick insite on data fields - null counts, data type and column count with that dtype, total records, total columns\n",
    "df.info()"
   ]
  },
  {
   "cell_type": "code",
   "execution_count": 54,
   "id": "5ffa7236",
   "metadata": {
    "scrolled": true
   },
   "outputs": [
    {
     "data": {
      "text/html": [
       "<div>\n",
       "<style scoped>\n",
       "    .dataframe tbody tr th:only-of-type {\n",
       "        vertical-align: middle;\n",
       "    }\n",
       "\n",
       "    .dataframe tbody tr th {\n",
       "        vertical-align: top;\n",
       "    }\n",
       "\n",
       "    .dataframe thead th {\n",
       "        text-align: right;\n",
       "    }\n",
       "</style>\n",
       "<table border=\"1\" class=\"dataframe\">\n",
       "  <thead>\n",
       "    <tr style=\"text-align: right;\">\n",
       "      <th></th>\n",
       "      <th>Elapsed Days In Sales Stage</th>\n",
       "      <th>Sales Stage Change Count</th>\n",
       "      <th>Total Days Identified Through Closing</th>\n",
       "      <th>Total Days Identified Through Qualified</th>\n",
       "      <th>Opportunity Amount USD</th>\n",
       "      <th>Client Size By Revenue</th>\n",
       "      <th>Client Size By Employee Count</th>\n",
       "      <th>Revenue From Client Past Two Years</th>\n",
       "      <th>Ratio Days Identified To Total Days</th>\n",
       "      <th>Ratio Days Validated To Total Days</th>\n",
       "      <th>Ratio Days Qualified To Total Days</th>\n",
       "      <th>Deal Size Category</th>\n",
       "    </tr>\n",
       "  </thead>\n",
       "  <tbody>\n",
       "    <tr>\n",
       "      <th>count</th>\n",
       "      <td>78025.000000</td>\n",
       "      <td>78025.000000</td>\n",
       "      <td>78025.000000</td>\n",
       "      <td>78025.000000</td>\n",
       "      <td>78025.000000</td>\n",
       "      <td>78025.000000</td>\n",
       "      <td>78025.000000</td>\n",
       "      <td>78025.000000</td>\n",
       "      <td>78025.000000</td>\n",
       "      <td>78025.000000</td>\n",
       "      <td>78025.000000</td>\n",
       "      <td>78025.000000</td>\n",
       "    </tr>\n",
       "    <tr>\n",
       "      <th>mean</th>\n",
       "      <td>43.595348</td>\n",
       "      <td>2.955732</td>\n",
       "      <td>16.728356</td>\n",
       "      <td>16.314348</td>\n",
       "      <td>91637.260750</td>\n",
       "      <td>1.620481</td>\n",
       "      <td>1.604050</td>\n",
       "      <td>0.303287</td>\n",
       "      <td>0.203063</td>\n",
       "      <td>0.488314</td>\n",
       "      <td>0.185048</td>\n",
       "      <td>3.436745</td>\n",
       "    </tr>\n",
       "    <tr>\n",
       "      <th>std</th>\n",
       "      <td>26.585600</td>\n",
       "      <td>1.497242</td>\n",
       "      <td>16.729593</td>\n",
       "      <td>16.562597</td>\n",
       "      <td>133161.029157</td>\n",
       "      <td>1.235796</td>\n",
       "      <td>1.210744</td>\n",
       "      <td>0.930290</td>\n",
       "      <td>0.364985</td>\n",
       "      <td>0.448077</td>\n",
       "      <td>0.340283</td>\n",
       "      <td>1.656890</td>\n",
       "    </tr>\n",
       "    <tr>\n",
       "      <th>min</th>\n",
       "      <td>0.000000</td>\n",
       "      <td>1.000000</td>\n",
       "      <td>0.000000</td>\n",
       "      <td>0.000000</td>\n",
       "      <td>0.000000</td>\n",
       "      <td>1.000000</td>\n",
       "      <td>1.000000</td>\n",
       "      <td>0.000000</td>\n",
       "      <td>0.000000</td>\n",
       "      <td>0.000000</td>\n",
       "      <td>0.000000</td>\n",
       "      <td>1.000000</td>\n",
       "    </tr>\n",
       "    <tr>\n",
       "      <th>25%</th>\n",
       "      <td>19.000000</td>\n",
       "      <td>2.000000</td>\n",
       "      <td>4.000000</td>\n",
       "      <td>4.000000</td>\n",
       "      <td>15000.000000</td>\n",
       "      <td>1.000000</td>\n",
       "      <td>1.000000</td>\n",
       "      <td>0.000000</td>\n",
       "      <td>0.000000</td>\n",
       "      <td>0.000000</td>\n",
       "      <td>0.000000</td>\n",
       "      <td>2.000000</td>\n",
       "    </tr>\n",
       "    <tr>\n",
       "      <th>50%</th>\n",
       "      <td>43.000000</td>\n",
       "      <td>3.000000</td>\n",
       "      <td>12.000000</td>\n",
       "      <td>12.000000</td>\n",
       "      <td>49000.000000</td>\n",
       "      <td>1.000000</td>\n",
       "      <td>1.000000</td>\n",
       "      <td>0.000000</td>\n",
       "      <td>0.000000</td>\n",
       "      <td>0.448000</td>\n",
       "      <td>0.000000</td>\n",
       "      <td>3.000000</td>\n",
       "    </tr>\n",
       "    <tr>\n",
       "      <th>75%</th>\n",
       "      <td>65.000000</td>\n",
       "      <td>3.000000</td>\n",
       "      <td>24.000000</td>\n",
       "      <td>24.000000</td>\n",
       "      <td>105099.000000</td>\n",
       "      <td>1.000000</td>\n",
       "      <td>1.000000</td>\n",
       "      <td>0.000000</td>\n",
       "      <td>0.197225</td>\n",
       "      <td>1.000000</td>\n",
       "      <td>0.188552</td>\n",
       "      <td>5.000000</td>\n",
       "    </tr>\n",
       "    <tr>\n",
       "      <th>max</th>\n",
       "      <td>210.000000</td>\n",
       "      <td>23.000000</td>\n",
       "      <td>208.000000</td>\n",
       "      <td>208.000000</td>\n",
       "      <td>1000000.000000</td>\n",
       "      <td>5.000000</td>\n",
       "      <td>5.000000</td>\n",
       "      <td>4.000000</td>\n",
       "      <td>1.000000</td>\n",
       "      <td>1.000000</td>\n",
       "      <td>1.000000</td>\n",
       "      <td>7.000000</td>\n",
       "    </tr>\n",
       "  </tbody>\n",
       "</table>\n",
       "</div>"
      ],
      "text/plain": [
       "       Elapsed Days In Sales Stage  Sales Stage Change Count  \\\n",
       "count                 78025.000000              78025.000000   \n",
       "mean                     43.595348                  2.955732   \n",
       "std                      26.585600                  1.497242   \n",
       "min                       0.000000                  1.000000   \n",
       "25%                      19.000000                  2.000000   \n",
       "50%                      43.000000                  3.000000   \n",
       "75%                      65.000000                  3.000000   \n",
       "max                     210.000000                 23.000000   \n",
       "\n",
       "       Total Days Identified Through Closing  \\\n",
       "count                           78025.000000   \n",
       "mean                               16.728356   \n",
       "std                                16.729593   \n",
       "min                                 0.000000   \n",
       "25%                                 4.000000   \n",
       "50%                                12.000000   \n",
       "75%                                24.000000   \n",
       "max                               208.000000   \n",
       "\n",
       "       Total Days Identified Through Qualified  Opportunity Amount USD  \\\n",
       "count                             78025.000000            78025.000000   \n",
       "mean                                 16.314348            91637.260750   \n",
       "std                                  16.562597           133161.029157   \n",
       "min                                   0.000000                0.000000   \n",
       "25%                                   4.000000            15000.000000   \n",
       "50%                                  12.000000            49000.000000   \n",
       "75%                                  24.000000           105099.000000   \n",
       "max                                 208.000000          1000000.000000   \n",
       "\n",
       "       Client Size By Revenue  Client Size By Employee Count  \\\n",
       "count            78025.000000                   78025.000000   \n",
       "mean                 1.620481                       1.604050   \n",
       "std                  1.235796                       1.210744   \n",
       "min                  1.000000                       1.000000   \n",
       "25%                  1.000000                       1.000000   \n",
       "50%                  1.000000                       1.000000   \n",
       "75%                  1.000000                       1.000000   \n",
       "max                  5.000000                       5.000000   \n",
       "\n",
       "       Revenue From Client Past Two Years  \\\n",
       "count                        78025.000000   \n",
       "mean                             0.303287   \n",
       "std                              0.930290   \n",
       "min                              0.000000   \n",
       "25%                              0.000000   \n",
       "50%                              0.000000   \n",
       "75%                              0.000000   \n",
       "max                              4.000000   \n",
       "\n",
       "       Ratio Days Identified To Total Days  \\\n",
       "count                         78025.000000   \n",
       "mean                              0.203063   \n",
       "std                               0.364985   \n",
       "min                               0.000000   \n",
       "25%                               0.000000   \n",
       "50%                               0.000000   \n",
       "75%                               0.197225   \n",
       "max                               1.000000   \n",
       "\n",
       "       Ratio Days Validated To Total Days  Ratio Days Qualified To Total Days  \\\n",
       "count                        78025.000000                        78025.000000   \n",
       "mean                             0.488314                            0.185048   \n",
       "std                              0.448077                            0.340283   \n",
       "min                              0.000000                            0.000000   \n",
       "25%                              0.000000                            0.000000   \n",
       "50%                              0.448000                            0.000000   \n",
       "75%                              1.000000                            0.188552   \n",
       "max                              1.000000                            1.000000   \n",
       "\n",
       "       Deal Size Category  \n",
       "count        78025.000000  \n",
       "mean             3.436745  \n",
       "std              1.656890  \n",
       "min              1.000000  \n",
       "25%              2.000000  \n",
       "50%              3.000000  \n",
       "75%              5.000000  \n",
       "max              7.000000  "
      ]
     },
     "execution_count": 54,
     "metadata": {},
     "output_type": "execute_result"
    }
   ],
   "source": [
    "#gets measure of central tendancy along with q1, q2, q3\n",
    "df.describe()"
   ]
  },
  {
   "cell_type": "code",
   "execution_count": 55,
   "id": "04ade08d",
   "metadata": {
    "scrolled": true
   },
   "outputs": [
    {
     "data": {
      "text/plain": [
       "Supplies Subgroup                          0\n",
       "Supplies Group                             0\n",
       "Region                                     0\n",
       "Route To Market                            0\n",
       "Elapsed Days In Sales Stage                0\n",
       "Sales Stage Change Count                   0\n",
       "Total Days Identified Through Closing      0\n",
       "Total Days Identified Through Qualified    0\n",
       "Opportunity Amount USD                     0\n",
       "Client Size By Revenue                     0\n",
       "Client Size By Employee Count              0\n",
       "Revenue From Client Past Two Years         0\n",
       "Competitor Type                            0\n",
       "Ratio Days Identified To Total Days        0\n",
       "Ratio Days Validated To Total Days         0\n",
       "Ratio Days Qualified To Total Days         0\n",
       "Deal Size Category                         0\n",
       "Opportunity Result                         0\n",
       "dtype: int64"
      ]
     },
     "execution_count": 55,
     "metadata": {},
     "output_type": "execute_result"
    }
   ],
   "source": [
    "#gives null count for records in each column\n",
    "df.isnull().sum()"
   ]
  },
  {
   "cell_type": "code",
   "execution_count": 56,
   "id": "6611bc0d",
   "metadata": {},
   "outputs": [
    {
     "data": {
      "text/plain": [
       "Competitor Type\n",
       "Unknown    65981\n",
       "Known      12044\n",
       "Name: count, dtype: int64"
      ]
     },
     "execution_count": 56,
     "metadata": {},
     "output_type": "execute_result"
    }
   ],
   "source": [
    "df[\"Competitor Type\"].value_counts(dropna=False)"
   ]
  },
  {
   "cell_type": "code",
   "execution_count": 57,
   "id": "574df312",
   "metadata": {},
   "outputs": [],
   "source": [
    "#replacing NaN with np.nan\n",
    "df[\"Competitor Type\"].replace(\"NaN\",np.nan,inplace=True)"
   ]
  },
  {
   "cell_type": "code",
   "execution_count": 58,
   "id": "76d22a6e",
   "metadata": {},
   "outputs": [],
   "source": [
    "#replacing all np.nan with most frequently repeating element\n",
    "from sklearn.impute import SimpleImputer\n",
    "\n",
    "# Create an imputer with a strategy\n",
    "\n",
    "imputer = SimpleImputer(strategy=\"most_frequent\")\n",
    "# Fit and transform the imputer on Competitor type\n",
    "\n",
    "df[['Competitor Type']] = imputer.fit_transform(df[['Competitor Type']])"
   ]
  },
  {
   "cell_type": "code",
   "execution_count": 59,
   "id": "9c194d8b",
   "metadata": {},
   "outputs": [
    {
     "data": {
      "text/plain": [
       "Competitor Type\n",
       "Unknown    65981\n",
       "Known      12044\n",
       "Name: count, dtype: int64"
      ]
     },
     "execution_count": 59,
     "metadata": {},
     "output_type": "execute_result"
    }
   ],
   "source": [
    "df[\"Competitor Type\"].value_counts(dropna=False)"
   ]
  },
  {
   "cell_type": "code",
   "execution_count": 60,
   "id": "99eab4da",
   "metadata": {},
   "outputs": [],
   "source": [
    "#separating data into x and y i.e separating into features and target\n",
    "features = df.iloc[:,:-1]\n",
    "target = df.iloc[:,-1]"
   ]
  },
  {
   "cell_type": "code",
   "execution_count": 61,
   "id": "5cf57263",
   "metadata": {
    "scrolled": true
   },
   "outputs": [
    {
     "data": {
      "text/html": [
       "<div>\n",
       "<style scoped>\n",
       "    .dataframe tbody tr th:only-of-type {\n",
       "        vertical-align: middle;\n",
       "    }\n",
       "\n",
       "    .dataframe tbody tr th {\n",
       "        vertical-align: top;\n",
       "    }\n",
       "\n",
       "    .dataframe thead th {\n",
       "        text-align: right;\n",
       "    }\n",
       "</style>\n",
       "<table border=\"1\" class=\"dataframe\">\n",
       "  <thead>\n",
       "    <tr style=\"text-align: right;\">\n",
       "      <th></th>\n",
       "      <th>Supplies Subgroup</th>\n",
       "      <th>Supplies Group</th>\n",
       "      <th>Region</th>\n",
       "      <th>Route To Market</th>\n",
       "      <th>Elapsed Days In Sales Stage</th>\n",
       "      <th>Sales Stage Change Count</th>\n",
       "      <th>Total Days Identified Through Closing</th>\n",
       "      <th>Total Days Identified Through Qualified</th>\n",
       "      <th>Opportunity Amount USD</th>\n",
       "      <th>Client Size By Revenue</th>\n",
       "      <th>Client Size By Employee Count</th>\n",
       "      <th>Revenue From Client Past Two Years</th>\n",
       "      <th>Competitor Type</th>\n",
       "      <th>Ratio Days Identified To Total Days</th>\n",
       "      <th>Ratio Days Validated To Total Days</th>\n",
       "      <th>Ratio Days Qualified To Total Days</th>\n",
       "      <th>Deal Size Category</th>\n",
       "    </tr>\n",
       "  </thead>\n",
       "  <tbody>\n",
       "    <tr>\n",
       "      <th>0</th>\n",
       "      <td>Exterior Accessories</td>\n",
       "      <td>Car Accessories</td>\n",
       "      <td>Northwest</td>\n",
       "      <td>Fields Sales</td>\n",
       "      <td>76</td>\n",
       "      <td>13</td>\n",
       "      <td>104</td>\n",
       "      <td>101</td>\n",
       "      <td>0</td>\n",
       "      <td>5</td>\n",
       "      <td>5</td>\n",
       "      <td>0</td>\n",
       "      <td>Unknown</td>\n",
       "      <td>0.69636</td>\n",
       "      <td>0.113985</td>\n",
       "      <td>0.154215</td>\n",
       "      <td>1</td>\n",
       "    </tr>\n",
       "    <tr>\n",
       "      <th>1</th>\n",
       "      <td>Exterior Accessories</td>\n",
       "      <td>Car Accessories</td>\n",
       "      <td>Pacific</td>\n",
       "      <td>Reseller</td>\n",
       "      <td>63</td>\n",
       "      <td>2</td>\n",
       "      <td>163</td>\n",
       "      <td>163</td>\n",
       "      <td>0</td>\n",
       "      <td>3</td>\n",
       "      <td>5</td>\n",
       "      <td>0</td>\n",
       "      <td>Unknown</td>\n",
       "      <td>0.00000</td>\n",
       "      <td>1.000000</td>\n",
       "      <td>0.000000</td>\n",
       "      <td>1</td>\n",
       "    </tr>\n",
       "    <tr>\n",
       "      <th>2</th>\n",
       "      <td>Motorcycle Parts</td>\n",
       "      <td>Performance &amp; Non-auto</td>\n",
       "      <td>Pacific</td>\n",
       "      <td>Reseller</td>\n",
       "      <td>24</td>\n",
       "      <td>7</td>\n",
       "      <td>82</td>\n",
       "      <td>82</td>\n",
       "      <td>7750</td>\n",
       "      <td>1</td>\n",
       "      <td>1</td>\n",
       "      <td>0</td>\n",
       "      <td>Unknown</td>\n",
       "      <td>1.00000</td>\n",
       "      <td>0.000000</td>\n",
       "      <td>0.000000</td>\n",
       "      <td>1</td>\n",
       "    </tr>\n",
       "    <tr>\n",
       "      <th>3</th>\n",
       "      <td>Shelters &amp; RV</td>\n",
       "      <td>Performance &amp; Non-auto</td>\n",
       "      <td>Midwest</td>\n",
       "      <td>Reseller</td>\n",
       "      <td>16</td>\n",
       "      <td>5</td>\n",
       "      <td>124</td>\n",
       "      <td>124</td>\n",
       "      <td>0</td>\n",
       "      <td>1</td>\n",
       "      <td>1</td>\n",
       "      <td>0</td>\n",
       "      <td>Known</td>\n",
       "      <td>1.00000</td>\n",
       "      <td>0.000000</td>\n",
       "      <td>0.000000</td>\n",
       "      <td>1</td>\n",
       "    </tr>\n",
       "    <tr>\n",
       "      <th>4</th>\n",
       "      <td>Exterior Accessories</td>\n",
       "      <td>Car Accessories</td>\n",
       "      <td>Pacific</td>\n",
       "      <td>Reseller</td>\n",
       "      <td>69</td>\n",
       "      <td>11</td>\n",
       "      <td>91</td>\n",
       "      <td>13</td>\n",
       "      <td>69756</td>\n",
       "      <td>1</td>\n",
       "      <td>1</td>\n",
       "      <td>0</td>\n",
       "      <td>Unknown</td>\n",
       "      <td>0.00000</td>\n",
       "      <td>0.141125</td>\n",
       "      <td>0.000000</td>\n",
       "      <td>4</td>\n",
       "    </tr>\n",
       "    <tr>\n",
       "      <th>...</th>\n",
       "      <td>...</td>\n",
       "      <td>...</td>\n",
       "      <td>...</td>\n",
       "      <td>...</td>\n",
       "      <td>...</td>\n",
       "      <td>...</td>\n",
       "      <td>...</td>\n",
       "      <td>...</td>\n",
       "      <td>...</td>\n",
       "      <td>...</td>\n",
       "      <td>...</td>\n",
       "      <td>...</td>\n",
       "      <td>...</td>\n",
       "      <td>...</td>\n",
       "      <td>...</td>\n",
       "      <td>...</td>\n",
       "      <td>...</td>\n",
       "    </tr>\n",
       "    <tr>\n",
       "      <th>78020</th>\n",
       "      <td>Batteries &amp; Accessories</td>\n",
       "      <td>Car Accessories</td>\n",
       "      <td>Southeast</td>\n",
       "      <td>Reseller</td>\n",
       "      <td>0</td>\n",
       "      <td>2</td>\n",
       "      <td>0</td>\n",
       "      <td>0</td>\n",
       "      <td>250000</td>\n",
       "      <td>1</td>\n",
       "      <td>1</td>\n",
       "      <td>3</td>\n",
       "      <td>Unknown</td>\n",
       "      <td>0.00000</td>\n",
       "      <td>0.000000</td>\n",
       "      <td>0.000000</td>\n",
       "      <td>6</td>\n",
       "    </tr>\n",
       "    <tr>\n",
       "      <th>78021</th>\n",
       "      <td>Shelters &amp; RV</td>\n",
       "      <td>Performance &amp; Non-auto</td>\n",
       "      <td>Northeast</td>\n",
       "      <td>Reseller</td>\n",
       "      <td>0</td>\n",
       "      <td>1</td>\n",
       "      <td>0</td>\n",
       "      <td>0</td>\n",
       "      <td>180000</td>\n",
       "      <td>1</td>\n",
       "      <td>1</td>\n",
       "      <td>0</td>\n",
       "      <td>Unknown</td>\n",
       "      <td>0.00000</td>\n",
       "      <td>0.000000</td>\n",
       "      <td>0.000000</td>\n",
       "      <td>5</td>\n",
       "    </tr>\n",
       "    <tr>\n",
       "      <th>78022</th>\n",
       "      <td>Exterior Accessories</td>\n",
       "      <td>Car Accessories</td>\n",
       "      <td>Southeast</td>\n",
       "      <td>Reseller</td>\n",
       "      <td>0</td>\n",
       "      <td>2</td>\n",
       "      <td>0</td>\n",
       "      <td>0</td>\n",
       "      <td>90000</td>\n",
       "      <td>1</td>\n",
       "      <td>1</td>\n",
       "      <td>0</td>\n",
       "      <td>Unknown</td>\n",
       "      <td>0.00000</td>\n",
       "      <td>0.000000</td>\n",
       "      <td>0.000000</td>\n",
       "      <td>4</td>\n",
       "    </tr>\n",
       "    <tr>\n",
       "      <th>78023</th>\n",
       "      <td>Exterior Accessories</td>\n",
       "      <td>Car Accessories</td>\n",
       "      <td>Southeast</td>\n",
       "      <td>Fields Sales</td>\n",
       "      <td>0</td>\n",
       "      <td>2</td>\n",
       "      <td>0</td>\n",
       "      <td>0</td>\n",
       "      <td>120000</td>\n",
       "      <td>1</td>\n",
       "      <td>1</td>\n",
       "      <td>0</td>\n",
       "      <td>Unknown</td>\n",
       "      <td>1.00000</td>\n",
       "      <td>0.000000</td>\n",
       "      <td>0.000000</td>\n",
       "      <td>5</td>\n",
       "    </tr>\n",
       "    <tr>\n",
       "      <th>78024</th>\n",
       "      <td>Interior Accessories</td>\n",
       "      <td>Car Accessories</td>\n",
       "      <td>Mid-Atlantic</td>\n",
       "      <td>Reseller</td>\n",
       "      <td>0</td>\n",
       "      <td>1</td>\n",
       "      <td>0</td>\n",
       "      <td>0</td>\n",
       "      <td>90000</td>\n",
       "      <td>1</td>\n",
       "      <td>1</td>\n",
       "      <td>0</td>\n",
       "      <td>Unknown</td>\n",
       "      <td>0.00000</td>\n",
       "      <td>0.000000</td>\n",
       "      <td>0.000000</td>\n",
       "      <td>4</td>\n",
       "    </tr>\n",
       "  </tbody>\n",
       "</table>\n",
       "<p>78025 rows × 17 columns</p>\n",
       "</div>"
      ],
      "text/plain": [
       "             Supplies Subgroup          Supplies Group        Region  \\\n",
       "0         Exterior Accessories         Car Accessories     Northwest   \n",
       "1         Exterior Accessories         Car Accessories       Pacific   \n",
       "2             Motorcycle Parts  Performance & Non-auto       Pacific   \n",
       "3                Shelters & RV  Performance & Non-auto       Midwest   \n",
       "4         Exterior Accessories         Car Accessories       Pacific   \n",
       "...                        ...                     ...           ...   \n",
       "78020  Batteries & Accessories         Car Accessories     Southeast   \n",
       "78021            Shelters & RV  Performance & Non-auto     Northeast   \n",
       "78022     Exterior Accessories         Car Accessories     Southeast   \n",
       "78023     Exterior Accessories         Car Accessories     Southeast   \n",
       "78024     Interior Accessories         Car Accessories  Mid-Atlantic   \n",
       "\n",
       "      Route To Market  Elapsed Days In Sales Stage  Sales Stage Change Count  \\\n",
       "0        Fields Sales                           76                        13   \n",
       "1            Reseller                           63                         2   \n",
       "2            Reseller                           24                         7   \n",
       "3            Reseller                           16                         5   \n",
       "4            Reseller                           69                        11   \n",
       "...               ...                          ...                       ...   \n",
       "78020        Reseller                            0                         2   \n",
       "78021        Reseller                            0                         1   \n",
       "78022        Reseller                            0                         2   \n",
       "78023    Fields Sales                            0                         2   \n",
       "78024        Reseller                            0                         1   \n",
       "\n",
       "       Total Days Identified Through Closing  \\\n",
       "0                                        104   \n",
       "1                                        163   \n",
       "2                                         82   \n",
       "3                                        124   \n",
       "4                                         91   \n",
       "...                                      ...   \n",
       "78020                                      0   \n",
       "78021                                      0   \n",
       "78022                                      0   \n",
       "78023                                      0   \n",
       "78024                                      0   \n",
       "\n",
       "       Total Days Identified Through Qualified  Opportunity Amount USD  \\\n",
       "0                                          101                       0   \n",
       "1                                          163                       0   \n",
       "2                                           82                    7750   \n",
       "3                                          124                       0   \n",
       "4                                           13                   69756   \n",
       "...                                        ...                     ...   \n",
       "78020                                        0                  250000   \n",
       "78021                                        0                  180000   \n",
       "78022                                        0                   90000   \n",
       "78023                                        0                  120000   \n",
       "78024                                        0                   90000   \n",
       "\n",
       "       Client Size By Revenue  Client Size By Employee Count  \\\n",
       "0                           5                              5   \n",
       "1                           3                              5   \n",
       "2                           1                              1   \n",
       "3                           1                              1   \n",
       "4                           1                              1   \n",
       "...                       ...                            ...   \n",
       "78020                       1                              1   \n",
       "78021                       1                              1   \n",
       "78022                       1                              1   \n",
       "78023                       1                              1   \n",
       "78024                       1                              1   \n",
       "\n",
       "       Revenue From Client Past Two Years Competitor Type  \\\n",
       "0                                       0         Unknown   \n",
       "1                                       0         Unknown   \n",
       "2                                       0         Unknown   \n",
       "3                                       0           Known   \n",
       "4                                       0         Unknown   \n",
       "...                                   ...             ...   \n",
       "78020                                   3         Unknown   \n",
       "78021                                   0         Unknown   \n",
       "78022                                   0         Unknown   \n",
       "78023                                   0         Unknown   \n",
       "78024                                   0         Unknown   \n",
       "\n",
       "       Ratio Days Identified To Total Days  \\\n",
       "0                                  0.69636   \n",
       "1                                  0.00000   \n",
       "2                                  1.00000   \n",
       "3                                  1.00000   \n",
       "4                                  0.00000   \n",
       "...                                    ...   \n",
       "78020                              0.00000   \n",
       "78021                              0.00000   \n",
       "78022                              0.00000   \n",
       "78023                              1.00000   \n",
       "78024                              0.00000   \n",
       "\n",
       "       Ratio Days Validated To Total Days  Ratio Days Qualified To Total Days  \\\n",
       "0                                0.113985                            0.154215   \n",
       "1                                1.000000                            0.000000   \n",
       "2                                0.000000                            0.000000   \n",
       "3                                0.000000                            0.000000   \n",
       "4                                0.141125                            0.000000   \n",
       "...                                   ...                                 ...   \n",
       "78020                            0.000000                            0.000000   \n",
       "78021                            0.000000                            0.000000   \n",
       "78022                            0.000000                            0.000000   \n",
       "78023                            0.000000                            0.000000   \n",
       "78024                            0.000000                            0.000000   \n",
       "\n",
       "       Deal Size Category  \n",
       "0                       1  \n",
       "1                       1  \n",
       "2                       1  \n",
       "3                       1  \n",
       "4                       4  \n",
       "...                   ...  \n",
       "78020                   6  \n",
       "78021                   5  \n",
       "78022                   4  \n",
       "78023                   5  \n",
       "78024                   4  \n",
       "\n",
       "[78025 rows x 17 columns]"
      ]
     },
     "execution_count": 61,
     "metadata": {},
     "output_type": "execute_result"
    }
   ],
   "source": [
    "features"
   ]
  },
  {
   "cell_type": "code",
   "execution_count": 62,
   "id": "c6a6639c",
   "metadata": {},
   "outputs": [
    {
     "data": {
      "text/plain": [
       "0         Won\n",
       "1        Loss\n",
       "2         Won\n",
       "3        Loss\n",
       "4        Loss\n",
       "         ... \n",
       "78020    Loss\n",
       "78021     Won\n",
       "78022    Loss\n",
       "78023    Loss\n",
       "78024    Loss\n",
       "Name: Opportunity Result, Length: 78025, dtype: object"
      ]
     },
     "execution_count": 62,
     "metadata": {},
     "output_type": "execute_result"
    }
   ],
   "source": [
    "target"
   ]
  },
  {
   "cell_type": "markdown",
   "id": "f7c52005",
   "metadata": {},
   "source": [
    "## Data Cleaning is not required as we don't have any numberical column as object"
   ]
  },
  {
   "cell_type": "markdown",
   "id": "3a901263",
   "metadata": {},
   "source": [
    "## Label Encoding"
   ]
  },
  {
   "cell_type": "code",
   "execution_count": 63,
   "id": "b5e0b51c",
   "metadata": {},
   "outputs": [],
   "source": [
    "# separating numerical and categorical columns\n",
    "num_cols = df.select_dtypes([\"int\", \"float\"])\n",
    "cat_cols = df.select_dtypes([\"object\"])"
   ]
  },
  {
   "cell_type": "code",
   "execution_count": 64,
   "id": "2523e3e3",
   "metadata": {},
   "outputs": [],
   "source": [
    "from sklearn.preprocessing import LabelEncoder"
   ]
  },
  {
   "cell_type": "code",
   "execution_count": 65,
   "id": "f747343b",
   "metadata": {},
   "outputs": [],
   "source": [
    "le = LabelEncoder()"
   ]
  },
  {
   "cell_type": "code",
   "execution_count": 95,
   "id": "6048c519",
   "metadata": {},
   "outputs": [],
   "source": [
    "for i in cat_cols:\n",
    "    cat_cols[i] = le.fit_transform(cat_cols[i])"
   ]
  },
  {
   "cell_type": "markdown",
   "id": "63f607cb",
   "metadata": {},
   "source": [
    "## Scaling numerical columns"
   ]
  },
  {
   "cell_type": "code",
   "execution_count": 67,
   "id": "855d6bdf",
   "metadata": {},
   "outputs": [],
   "source": [
    "from sklearn.preprocessing import StandardScaler"
   ]
  },
  {
   "cell_type": "code",
   "execution_count": 68,
   "id": "4de08da9",
   "metadata": {},
   "outputs": [],
   "source": [
    "sc = StandardScaler()"
   ]
  },
  {
   "cell_type": "code",
   "execution_count": 69,
   "id": "a4a86c91",
   "metadata": {},
   "outputs": [],
   "source": [
    "num_cols_scaled = sc.fit_transform(num_cols)"
   ]
  },
  {
   "cell_type": "code",
   "execution_count": 70,
   "id": "eb924a9e",
   "metadata": {},
   "outputs": [],
   "source": [
    "for i in range(len(num_cols.columns)):\n",
    "    num_cols[num_cols.columns[i]] = num_cols_scaled[:,i]"
   ]
  },
  {
   "cell_type": "code",
   "execution_count": 71,
   "id": "d3763c3a",
   "metadata": {
    "scrolled": true
   },
   "outputs": [
    {
     "data": {
      "text/html": [
       "<div>\n",
       "<style scoped>\n",
       "    .dataframe tbody tr th:only-of-type {\n",
       "        vertical-align: middle;\n",
       "    }\n",
       "\n",
       "    .dataframe tbody tr th {\n",
       "        vertical-align: top;\n",
       "    }\n",
       "\n",
       "    .dataframe thead th {\n",
       "        text-align: right;\n",
       "    }\n",
       "</style>\n",
       "<table border=\"1\" class=\"dataframe\">\n",
       "  <thead>\n",
       "    <tr style=\"text-align: right;\">\n",
       "      <th></th>\n",
       "      <th>Elapsed Days In Sales Stage</th>\n",
       "      <th>Sales Stage Change Count</th>\n",
       "      <th>Total Days Identified Through Closing</th>\n",
       "      <th>Total Days Identified Through Qualified</th>\n",
       "      <th>Opportunity Amount USD</th>\n",
       "      <th>Client Size By Revenue</th>\n",
       "      <th>Client Size By Employee Count</th>\n",
       "      <th>Revenue From Client Past Two Years</th>\n",
       "      <th>Ratio Days Identified To Total Days</th>\n",
       "      <th>Ratio Days Validated To Total Days</th>\n",
       "      <th>Ratio Days Qualified To Total Days</th>\n",
       "      <th>Deal Size Category</th>\n",
       "    </tr>\n",
       "  </thead>\n",
       "  <tbody>\n",
       "    <tr>\n",
       "      <th>0</th>\n",
       "      <td>1.218888</td>\n",
       "      <td>6.708555</td>\n",
       "      <td>5.216636</td>\n",
       "      <td>5.113099</td>\n",
       "      <td>-0.688173</td>\n",
       "      <td>2.734707</td>\n",
       "      <td>2.804863</td>\n",
       "      <td>-0.326016</td>\n",
       "      <td>1.351564</td>\n",
       "      <td>-0.835417</td>\n",
       "      <td>-0.090610</td>\n",
       "      <td>-1.470683</td>\n",
       "    </tr>\n",
       "    <tr>\n",
       "      <th>1</th>\n",
       "      <td>0.729898</td>\n",
       "      <td>-0.638332</td>\n",
       "      <td>8.743344</td>\n",
       "      <td>8.856497</td>\n",
       "      <td>-0.688173</td>\n",
       "      <td>1.116307</td>\n",
       "      <td>2.804863</td>\n",
       "      <td>-0.326016</td>\n",
       "      <td>-0.556365</td>\n",
       "      <td>1.141967</td>\n",
       "      <td>-0.543809</td>\n",
       "      <td>-1.470683</td>\n",
       "    </tr>\n",
       "    <tr>\n",
       "      <th>2</th>\n",
       "      <td>-0.737071</td>\n",
       "      <td>2.701162</td>\n",
       "      <td>3.901593</td>\n",
       "      <td>3.965928</td>\n",
       "      <td>-0.629973</td>\n",
       "      <td>-0.502093</td>\n",
       "      <td>-0.498911</td>\n",
       "      <td>-0.326016</td>\n",
       "      <td>2.183495</td>\n",
       "      <td>-1.089806</td>\n",
       "      <td>-0.543809</td>\n",
       "      <td>-1.470683</td>\n",
       "    </tr>\n",
       "    <tr>\n",
       "      <th>3</th>\n",
       "      <td>-1.037988</td>\n",
       "      <td>1.365364</td>\n",
       "      <td>6.412130</td>\n",
       "      <td>6.501779</td>\n",
       "      <td>-0.688173</td>\n",
       "      <td>-0.502093</td>\n",
       "      <td>-0.498911</td>\n",
       "      <td>-0.326016</td>\n",
       "      <td>2.183495</td>\n",
       "      <td>-1.089806</td>\n",
       "      <td>-0.543809</td>\n",
       "      <td>-1.470683</td>\n",
       "    </tr>\n",
       "    <tr>\n",
       "      <th>4</th>\n",
       "      <td>0.955586</td>\n",
       "      <td>5.372757</td>\n",
       "      <td>4.439565</td>\n",
       "      <td>-0.200112</td>\n",
       "      <td>-0.164323</td>\n",
       "      <td>-0.502093</td>\n",
       "      <td>-0.498911</td>\n",
       "      <td>-0.326016</td>\n",
       "      <td>-0.556365</td>\n",
       "      <td>-0.774847</td>\n",
       "      <td>-0.543809</td>\n",
       "      <td>0.339950</td>\n",
       "    </tr>\n",
       "    <tr>\n",
       "      <th>...</th>\n",
       "      <td>...</td>\n",
       "      <td>...</td>\n",
       "      <td>...</td>\n",
       "      <td>...</td>\n",
       "      <td>...</td>\n",
       "      <td>...</td>\n",
       "      <td>...</td>\n",
       "      <td>...</td>\n",
       "      <td>...</td>\n",
       "      <td>...</td>\n",
       "      <td>...</td>\n",
       "      <td>...</td>\n",
       "    </tr>\n",
       "    <tr>\n",
       "      <th>78020</th>\n",
       "      <td>-1.639821</td>\n",
       "      <td>-0.638332</td>\n",
       "      <td>-0.999932</td>\n",
       "      <td>-0.985018</td>\n",
       "      <td>1.189265</td>\n",
       "      <td>-0.502093</td>\n",
       "      <td>-0.498911</td>\n",
       "      <td>2.898807</td>\n",
       "      <td>-0.556365</td>\n",
       "      <td>-1.089806</td>\n",
       "      <td>-0.543809</td>\n",
       "      <td>1.547038</td>\n",
       "    </tr>\n",
       "    <tr>\n",
       "      <th>78021</th>\n",
       "      <td>-1.639821</td>\n",
       "      <td>-1.306231</td>\n",
       "      <td>-0.999932</td>\n",
       "      <td>-0.985018</td>\n",
       "      <td>0.663582</td>\n",
       "      <td>-0.502093</td>\n",
       "      <td>-0.498911</td>\n",
       "      <td>-0.326016</td>\n",
       "      <td>-0.556365</td>\n",
       "      <td>-1.089806</td>\n",
       "      <td>-0.543809</td>\n",
       "      <td>0.943494</td>\n",
       "    </tr>\n",
       "    <tr>\n",
       "      <th>78022</th>\n",
       "      <td>-1.639821</td>\n",
       "      <td>-0.638332</td>\n",
       "      <td>-0.999932</td>\n",
       "      <td>-0.985018</td>\n",
       "      <td>-0.012295</td>\n",
       "      <td>-0.502093</td>\n",
       "      <td>-0.498911</td>\n",
       "      <td>-0.326016</td>\n",
       "      <td>-0.556365</td>\n",
       "      <td>-1.089806</td>\n",
       "      <td>-0.543809</td>\n",
       "      <td>0.339950</td>\n",
       "    </tr>\n",
       "    <tr>\n",
       "      <th>78023</th>\n",
       "      <td>-1.639821</td>\n",
       "      <td>-0.638332</td>\n",
       "      <td>-0.999932</td>\n",
       "      <td>-0.985018</td>\n",
       "      <td>0.212997</td>\n",
       "      <td>-0.502093</td>\n",
       "      <td>-0.498911</td>\n",
       "      <td>-0.326016</td>\n",
       "      <td>2.183495</td>\n",
       "      <td>-1.089806</td>\n",
       "      <td>-0.543809</td>\n",
       "      <td>0.943494</td>\n",
       "    </tr>\n",
       "    <tr>\n",
       "      <th>78024</th>\n",
       "      <td>-1.639821</td>\n",
       "      <td>-1.306231</td>\n",
       "      <td>-0.999932</td>\n",
       "      <td>-0.985018</td>\n",
       "      <td>-0.012295</td>\n",
       "      <td>-0.502093</td>\n",
       "      <td>-0.498911</td>\n",
       "      <td>-0.326016</td>\n",
       "      <td>-0.556365</td>\n",
       "      <td>-1.089806</td>\n",
       "      <td>-0.543809</td>\n",
       "      <td>0.339950</td>\n",
       "    </tr>\n",
       "  </tbody>\n",
       "</table>\n",
       "<p>78025 rows × 12 columns</p>\n",
       "</div>"
      ],
      "text/plain": [
       "       Elapsed Days In Sales Stage  Sales Stage Change Count  \\\n",
       "0                         1.218888                  6.708555   \n",
       "1                         0.729898                 -0.638332   \n",
       "2                        -0.737071                  2.701162   \n",
       "3                        -1.037988                  1.365364   \n",
       "4                         0.955586                  5.372757   \n",
       "...                            ...                       ...   \n",
       "78020                    -1.639821                 -0.638332   \n",
       "78021                    -1.639821                 -1.306231   \n",
       "78022                    -1.639821                 -0.638332   \n",
       "78023                    -1.639821                 -0.638332   \n",
       "78024                    -1.639821                 -1.306231   \n",
       "\n",
       "       Total Days Identified Through Closing  \\\n",
       "0                                   5.216636   \n",
       "1                                   8.743344   \n",
       "2                                   3.901593   \n",
       "3                                   6.412130   \n",
       "4                                   4.439565   \n",
       "...                                      ...   \n",
       "78020                              -0.999932   \n",
       "78021                              -0.999932   \n",
       "78022                              -0.999932   \n",
       "78023                              -0.999932   \n",
       "78024                              -0.999932   \n",
       "\n",
       "       Total Days Identified Through Qualified  Opportunity Amount USD  \\\n",
       "0                                     5.113099               -0.688173   \n",
       "1                                     8.856497               -0.688173   \n",
       "2                                     3.965928               -0.629973   \n",
       "3                                     6.501779               -0.688173   \n",
       "4                                    -0.200112               -0.164323   \n",
       "...                                        ...                     ...   \n",
       "78020                                -0.985018                1.189265   \n",
       "78021                                -0.985018                0.663582   \n",
       "78022                                -0.985018               -0.012295   \n",
       "78023                                -0.985018                0.212997   \n",
       "78024                                -0.985018               -0.012295   \n",
       "\n",
       "       Client Size By Revenue  Client Size By Employee Count  \\\n",
       "0                    2.734707                       2.804863   \n",
       "1                    1.116307                       2.804863   \n",
       "2                   -0.502093                      -0.498911   \n",
       "3                   -0.502093                      -0.498911   \n",
       "4                   -0.502093                      -0.498911   \n",
       "...                       ...                            ...   \n",
       "78020               -0.502093                      -0.498911   \n",
       "78021               -0.502093                      -0.498911   \n",
       "78022               -0.502093                      -0.498911   \n",
       "78023               -0.502093                      -0.498911   \n",
       "78024               -0.502093                      -0.498911   \n",
       "\n",
       "       Revenue From Client Past Two Years  \\\n",
       "0                               -0.326016   \n",
       "1                               -0.326016   \n",
       "2                               -0.326016   \n",
       "3                               -0.326016   \n",
       "4                               -0.326016   \n",
       "...                                   ...   \n",
       "78020                            2.898807   \n",
       "78021                           -0.326016   \n",
       "78022                           -0.326016   \n",
       "78023                           -0.326016   \n",
       "78024                           -0.326016   \n",
       "\n",
       "       Ratio Days Identified To Total Days  \\\n",
       "0                                 1.351564   \n",
       "1                                -0.556365   \n",
       "2                                 2.183495   \n",
       "3                                 2.183495   \n",
       "4                                -0.556365   \n",
       "...                                    ...   \n",
       "78020                            -0.556365   \n",
       "78021                            -0.556365   \n",
       "78022                            -0.556365   \n",
       "78023                             2.183495   \n",
       "78024                            -0.556365   \n",
       "\n",
       "       Ratio Days Validated To Total Days  Ratio Days Qualified To Total Days  \\\n",
       "0                               -0.835417                           -0.090610   \n",
       "1                                1.141967                           -0.543809   \n",
       "2                               -1.089806                           -0.543809   \n",
       "3                               -1.089806                           -0.543809   \n",
       "4                               -0.774847                           -0.543809   \n",
       "...                                   ...                                 ...   \n",
       "78020                           -1.089806                           -0.543809   \n",
       "78021                           -1.089806                           -0.543809   \n",
       "78022                           -1.089806                           -0.543809   \n",
       "78023                           -1.089806                           -0.543809   \n",
       "78024                           -1.089806                           -0.543809   \n",
       "\n",
       "       Deal Size Category  \n",
       "0               -1.470683  \n",
       "1               -1.470683  \n",
       "2               -1.470683  \n",
       "3               -1.470683  \n",
       "4                0.339950  \n",
       "...                   ...  \n",
       "78020            1.547038  \n",
       "78021            0.943494  \n",
       "78022            0.339950  \n",
       "78023            0.943494  \n",
       "78024            0.339950  \n",
       "\n",
       "[78025 rows x 12 columns]"
      ]
     },
     "execution_count": 71,
     "metadata": {},
     "output_type": "execute_result"
    }
   ],
   "source": [
    "num_cols"
   ]
  },
  {
   "cell_type": "markdown",
   "id": "9812d4f1",
   "metadata": {},
   "source": [
    "## Concatinating Scaled numerical cols and label encoded categorical cols"
   ]
  },
  {
   "cell_type": "code",
   "execution_count": 72,
   "id": "b5a7e33c",
   "metadata": {},
   "outputs": [],
   "source": [
    "df1 = pd.concat([num_cols,cat_cols], axis=1)\n",
    "x = df1.head(10000).iloc[:,:-1]\n",
    "y = df1.head(10000).iloc[:,-1]\n"
   ]
  },
  {
   "cell_type": "code",
   "execution_count": 73,
   "id": "b94ee84b",
   "metadata": {
    "scrolled": true
   },
   "outputs": [
    {
     "data": {
      "text/plain": [
       "Opportunity Result\n",
       "0    7359\n",
       "1    2641\n",
       "Name: count, dtype: int64"
      ]
     },
     "execution_count": 73,
     "metadata": {},
     "output_type": "execute_result"
    }
   ],
   "source": [
    "y.value_counts()"
   ]
  },
  {
   "cell_type": "markdown",
   "id": "e49bba7e",
   "metadata": {},
   "source": [
    "## Data is imbalanced , need to do sampling using Oversampling or Undersampling"
   ]
  },
  {
   "cell_type": "code",
   "execution_count": 74,
   "id": "0de28236",
   "metadata": {},
   "outputs": [],
   "source": [
    "#!pip install imblearn"
   ]
  },
  {
   "cell_type": "code",
   "execution_count": null,
   "id": "598613a3",
   "metadata": {},
   "outputs": [],
   "source": []
  },
  {
   "cell_type": "code",
   "execution_count": 75,
   "id": "f6b926ad",
   "metadata": {
    "scrolled": true
   },
   "outputs": [],
   "source": [
    "from imblearn.over_sampling import RandomOverSampler\n",
    "ros = RandomOverSampler(random_state=42)\n",
    "x_ros, y_ros = ros.fit_resample(x, y)\n",
    "x=x_ros\n",
    "y=y_ros"
   ]
  },
  {
   "cell_type": "code",
   "execution_count": 76,
   "id": "1bc79666",
   "metadata": {
    "scrolled": true
   },
   "outputs": [
    {
     "data": {
      "text/plain": [
       "Opportunity Result\n",
       "1    7359\n",
       "0    7359\n",
       "Name: count, dtype: int64"
      ]
     },
     "execution_count": 76,
     "metadata": {},
     "output_type": "execute_result"
    }
   ],
   "source": [
    "y_ros.value_counts()"
   ]
  },
  {
   "cell_type": "code",
   "execution_count": 77,
   "id": "0a83fb59",
   "metadata": {
    "scrolled": true
   },
   "outputs": [
    {
     "data": {
      "image/png": "[encoded data removed]",
      "text/plain": [
       "<Figure size 300x300 with 1 Axes>"
      ]
     },
     "metadata": {},
     "output_type": "display_data"
    }
   ],
   "source": [
    "plt.figure(figsize=(3,3))\n",
    "y_ros.value_counts().plot(kind='bar')\n",
    "plt.xticks(rotation=0)\n",
    "plt.grid()\n",
    "plt.show()"
   ]
  },
  {
   "cell_type": "markdown",
   "id": "55acee8d",
   "metadata": {},
   "source": [
    "## The Data is cleaned and can be used for training"
   ]
  },
  {
   "cell_type": "code",
   "execution_count": 78,
   "id": "20341a49",
   "metadata": {},
   "outputs": [],
   "source": [
    "from sklearn.model_selection import train_test_split\n",
    "from sklearn.linear_model import LogisticRegression\n",
    "from sklearn.neighbors import KNeighborsClassifier\n",
    "from sklearn.tree import DecisionTreeClassifier\n",
    "from sklearn.ensemble import RandomForestClassifier\n",
    "from sklearn.svm import SVC\n",
    "from sklearn.metrics import classification_report\n",
    "from sklearn.model_selection import GridSearchCV, cross_val_score"
   ]
  },
  {
   "cell_type": "code",
   "execution_count": 79,
   "id": "31df8525",
   "metadata": {},
   "outputs": [],
   "source": [
    "# Spliting dataset into train and test data\n",
    "x_train, x_test, y_train, y_test = train_test_split(x, y, test_size=0.3, random_state=42)"
   ]
  },
  {
   "cell_type": "code",
   "execution_count": 80,
   "id": "d43567a0",
   "metadata": {},
   "outputs": [],
   "source": [
    "logreg = LogisticRegression()\n",
    "knn = KNeighborsClassifier()\n",
    "dt = DecisionTreeClassifier()\n",
    "rf = RandomForestClassifier(random_state=42)\n",
    "svm = SVC()"
   ]
  },
  {
   "cell_type": "code",
   "execution_count": 81,
   "id": "4af8fcec",
   "metadata": {},
   "outputs": [],
   "source": [
    "def mymodel(model):\n",
    "    model.fit(x_train,y_train)\n",
    "    y_pred = model.predict(x_test)\n",
    "    print(classification_report(y_test,y_pred))\n",
    "    return model"
   ]
  },
  {
   "cell_type": "markdown",
   "id": "ca0f3088",
   "metadata": {},
   "source": [
    "## logistic Regression"
   ]
  },
  {
   "cell_type": "code",
   "execution_count": 33,
   "id": "515426b7",
   "metadata": {},
   "outputs": [
    {
     "name": "stdout",
     "output_type": "stream",
     "text": [
      "              precision    recall  f1-score   support\n",
      "\n",
      "           0       0.79      0.78      0.79     18113\n",
      "           1       0.78      0.80      0.79     18126\n",
      "\n",
      "    accuracy                           0.79     36239\n",
      "   macro avg       0.79      0.79      0.79     36239\n",
      "weighted avg       0.79      0.79      0.79     36239\n",
      "\n"
     ]
    },
    {
     "data": {
      "text/html": [
       "<style>#sk-container-id-1 {color: black;background-color: white;}#sk-container-id-1 pre{padding: 0;}#sk-container-id-1 div.sk-toggleable {background-color: white;}#sk-container-id-1 label.sk-toggleable__label {cursor: pointer;display: block;width: 100%;margin-bottom: 0;padding: 0.3em;box-sizing: border-box;text-align: center;}#sk-container-id-1 label.sk-toggleable__label-arrow:before {content: \"▸\";float: left;margin-right: 0.25em;color: #696969;}#sk-container-id-1 label.sk-toggleable__label-arrow:hover:before {color: black;}#sk-container-id-1 div.sk-estimator:hover label.sk-toggleable__label-arrow:before {color: black;}#sk-container-id-1 div.sk-toggleable__content {max-height: 0;max-width: 0;overflow: hidden;text-align: left;background-color: #f0f8ff;}#sk-container-id-1 div.sk-toggleable__content pre {margin: 0.2em;color: black;border-radius: 0.25em;background-color: #f0f8ff;}#sk-container-id-1 input.sk-toggleable__control:checked~div.sk-toggleable__content {max-height: 200px;max-width: 100%;overflow: auto;}#sk-container-id-1 input.sk-toggleable__control:checked~label.sk-toggleable__label-arrow:before {content: \"▾\";}#sk-container-id-1 div.sk-estimator input.sk-toggleable__control:checked~label.sk-toggleable__label {background-color: #d4ebff;}#sk-container-id-1 div.sk-label input.sk-toggleable__control:checked~label.sk-toggleable__label {background-color: #d4ebff;}#sk-container-id-1 input.sk-hidden--visually {border: 0;clip: rect(1px 1px 1px 1px);clip: rect(1px, 1px, 1px, 1px);height: 1px;margin: -1px;overflow: hidden;padding: 0;position: absolute;width: 1px;}#sk-container-id-1 div.sk-estimator {font-family: monospace;background-color: #f0f8ff;border: 1px dotted black;border-radius: 0.25em;box-sizing: border-box;margin-bottom: 0.5em;}#sk-container-id-1 div.sk-estimator:hover {background-color: #d4ebff;}#sk-container-id-1 div.sk-parallel-item::after {content: \"\";width: 100%;border-bottom: 1px solid gray;flex-grow: 1;}#sk-container-id-1 div.sk-label:hover label.sk-toggleable__label {background-color: #d4ebff;}#sk-container-id-1 div.sk-serial::before {content: \"\";position: absolute;border-left: 1px solid gray;box-sizing: border-box;top: 0;bottom: 0;left: 50%;z-index: 0;}#sk-container-id-1 div.sk-serial {display: flex;flex-direction: column;align-items: center;background-color: white;padding-right: 0.2em;padding-left: 0.2em;position: relative;}#sk-container-id-1 div.sk-item {position: relative;z-index: 1;}#sk-container-id-1 div.sk-parallel {display: flex;align-items: stretch;justify-content: center;background-color: white;position: relative;}#sk-container-id-1 div.sk-item::before, #sk-container-id-1 div.sk-parallel-item::before {content: \"\";position: absolute;border-left: 1px solid gray;box-sizing: border-box;top: 0;bottom: 0;left: 50%;z-index: -1;}#sk-container-id-1 div.sk-parallel-item {display: flex;flex-direction: column;z-index: 1;position: relative;background-color: white;}#sk-container-id-1 div.sk-parallel-item:first-child::after {align-self: flex-end;width: 50%;}#sk-container-id-1 div.sk-parallel-item:last-child::after {align-self: flex-start;width: 50%;}#sk-container-id-1 div.sk-parallel-item:only-child::after {width: 0;}#sk-container-id-1 div.sk-dashed-wrapped {border: 1px dashed gray;margin: 0 0.4em 0.5em 0.4em;box-sizing: border-box;padding-bottom: 0.4em;background-color: white;}#sk-container-id-1 div.sk-label label {font-family: monospace;font-weight: bold;display: inline-block;line-height: 1.2em;}#sk-container-id-1 div.sk-label-container {text-align: center;}#sk-container-id-1 div.sk-container {/* jupyter's `normalize.less` sets `[hidden] { display: none; }` but bootstrap.min.css set `[hidden] { display: none !important; }` so we also need the `!important` here to be able to override the default hidden behavior on the sphinx rendered scikit-learn.org. See: https://github.com/scikit-learn/scikit-learn/issues/21755 */display: inline-block !important;position: relative;}#sk-container-id-1 div.sk-text-repr-fallback {display: none;}</style><div id=\"sk-container-id-1\" class=\"sk-top-container\"><div class=\"sk-text-repr-fallback\"><pre>LogisticRegression()</pre><b>In a Jupyter environment, please rerun this cell to show the HTML representation or trust the notebook. <br />On GitHub, the HTML representation is unable to render, please try loading this page with nbviewer.org.</b></div><div class=\"sk-container\" hidden><div class=\"sk-item\"><div class=\"sk-estimator sk-toggleable\"><input class=\"sk-toggleable__control sk-hidden--visually\" id=\"sk-estimator-id-1\" type=\"checkbox\" checked><label for=\"sk-estimator-id-1\" class=\"sk-toggleable__label sk-toggleable__label-arrow\">LogisticRegression</label><div class=\"sk-toggleable__content\"><pre>LogisticRegression()</pre></div></div></div></div></div>"
      ],
      "text/plain": [
       "LogisticRegression()"
      ]
     },
     "execution_count": 33,
     "metadata": {},
     "output_type": "execute_result"
    }
   ],
   "source": [
    "mymodel(logreg)"
   ]
  },
  {
   "cell_type": "markdown",
   "id": "b4cedaeb",
   "metadata": {},
   "source": [
    "# Hyperparameter Tuning using GridSearchCV"
   ]
  },
  {
   "cell_type": "code",
   "execution_count": 34,
   "id": "4edee943",
   "metadata": {},
   "outputs": [],
   "source": [
    "parameters={'solver':['poly','liblinear','lbfgs','saga','sag','newton-cg'],'penalty':['none','l1','l2','elasticnet'],'C':[100,10,1,0.1,0.01]}\n",
    "gsLogreg=GridSearchCV(logreg,parameters,verbose=3)"
   ]
  },
  {
   "cell_type": "code",
   "execution_count": null,
   "id": "da3974bd",
   "metadata": {},
   "outputs": [
    {
     "name": "stdout",
     "output_type": "stream",
     "text": [
      "Fitting 5 folds for each of 120 candidates, totalling 600 fits\n",
      "[CV 1/5] END ....C=100, penalty=none, solver=poly;, score=nan total time=   0.0s\n",
      "[CV 2/5] END ....C=100, penalty=none, solver=poly;, score=nan total time=   0.0s\n",
      "[CV 3/5] END ....C=100, penalty=none, solver=poly;, score=nan total time=   0.0s\n",
      "[CV 4/5] END ....C=100, penalty=none, solver=poly;, score=nan total time=   0.0s\n",
      "[CV 5/5] END ....C=100, penalty=none, solver=poly;, score=nan total time=   0.0s\n",
      "[CV 1/5] END C=100, penalty=none, solver=liblinear;, score=nan total time=   0.0s\n",
      "[CV 2/5] END C=100, penalty=none, solver=liblinear;, score=nan total time=   0.0s\n",
      "[CV 3/5] END C=100, penalty=none, solver=liblinear;, score=nan total time=   0.0s\n",
      "[CV 4/5] END C=100, penalty=none, solver=liblinear;, score=nan total time=   0.0s\n",
      "[CV 5/5] END C=100, penalty=none, solver=liblinear;, score=nan total time=   0.0s\n",
      "[CV 1/5] END .C=100, penalty=none, solver=lbfgs;, score=0.790 total time=   0.2s\n",
      "[CV 2/5] END .C=100, penalty=none, solver=lbfgs;, score=0.794 total time=   0.2s\n",
      "[CV 3/5] END .C=100, penalty=none, solver=lbfgs;, score=0.783 total time=   0.2s\n",
      "[CV 4/5] END .C=100, penalty=none, solver=lbfgs;, score=0.796 total time=   0.4s\n",
      "[CV 5/5] END .C=100, penalty=none, solver=lbfgs;, score=0.793 total time=   0.2s\n",
      "[CV 1/5] END ..C=100, penalty=none, solver=saga;, score=0.790 total time=   0.4s\n",
      "[CV 2/5] END ..C=100, penalty=none, solver=saga;, score=0.794 total time=   0.5s\n",
      "[CV 3/5] END ..C=100, penalty=none, solver=saga;, score=0.783 total time=   0.4s\n",
      "[CV 4/5] END ..C=100, penalty=none, solver=saga;, score=0.796 total time=   0.4s\n",
      "[CV 5/5] END ..C=100, penalty=none, solver=saga;, score=0.793 total time=   0.4s\n",
      "[CV 1/5] END ...C=100, penalty=none, solver=sag;, score=0.790 total time=   0.6s\n",
      "[CV 2/5] END ...C=100, penalty=none, solver=sag;, score=0.794 total time=   0.6s\n",
      "[CV 3/5] END ...C=100, penalty=none, solver=sag;, score=0.783 total time=   0.6s\n",
      "[CV 4/5] END ...C=100, penalty=none, solver=sag;, score=0.796 total time=   0.7s\n",
      "[CV 5/5] END ...C=100, penalty=none, solver=sag;, score=0.793 total time=   0.7s\n",
      "[CV 1/5] END C=100, penalty=none, solver=newton-cg;, score=0.790 total time=   0.8s\n",
      "[CV 2/5] END C=100, penalty=none, solver=newton-cg;, score=0.794 total time=   0.8s\n",
      "[CV 3/5] END C=100, penalty=none, solver=newton-cg;, score=0.783 total time=   0.8s\n",
      "[CV 4/5] END C=100, penalty=none, solver=newton-cg;, score=0.796 total time=   0.8s\n",
      "[CV 5/5] END C=100, penalty=none, solver=newton-cg;, score=0.793 total time=   0.8s\n",
      "[CV 1/5] END ......C=100, penalty=l1, solver=poly;, score=nan total time=   0.0s\n",
      "[CV 2/5] END ......C=100, penalty=l1, solver=poly;, score=nan total time=   0.0s\n",
      "[CV 3/5] END ......C=100, penalty=l1, solver=poly;, score=nan total time=   0.0s\n",
      "[CV 4/5] END ......C=100, penalty=l1, solver=poly;, score=nan total time=   0.0s\n",
      "[CV 5/5] END ......C=100, penalty=l1, solver=poly;, score=nan total time=   0.0s\n",
      "[CV 1/5] END C=100, penalty=l1, solver=liblinear;, score=0.790 total time=   1.3s\n"
     ]
    }
   ],
   "source": [
    "gsLogreg.fit(x_train,y_train)"
   ]
  },
  {
   "cell_type": "code",
   "execution_count": null,
   "id": "75e02675",
   "metadata": {},
   "outputs": [],
   "source": [
    "gsLogreg.best_params_"
   ]
  },
  {
   "cell_type": "code",
   "execution_count": null,
   "id": "1ba4af01",
   "metadata": {
    "scrolled": true
   },
   "outputs": [],
   "source": [
    "logreg_hypertuned=LogisticRegression(C=0.01,penalty='l1',solver='saga')\n",
    "mymodel(logreg_hypertuned)"
   ]
  },
  {
   "cell_type": "markdown",
   "id": "78e0dee7",
   "metadata": {},
   "source": [
    "## DT"
   ]
  },
  {
   "cell_type": "code",
   "execution_count": null,
   "id": "0219845e",
   "metadata": {},
   "outputs": [],
   "source": [
    "mymodel(dt)"
   ]
  },
  {
   "cell_type": "markdown",
   "id": "4ee058dd",
   "metadata": {},
   "source": [
    "# GridSearchCV For Decision Tree"
   ]
  },
  {
   "cell_type": "code",
   "execution_count": null,
   "id": "f7568fb4",
   "metadata": {},
   "outputs": [],
   "source": [
    "parameters={'max_depth':['none',10,20,30],'min_samples_split':[2,5,10],'min_samples_leaf':[1,2,4]}\n",
    "gsDt=GridSearchCV(dt,parameters,verbose=3)"
   ]
  },
  {
   "cell_type": "code",
   "execution_count": null,
   "id": "7085c6e5",
   "metadata": {},
   "outputs": [],
   "source": [
    "gsDt.fit(x_train,y_train)"
   ]
  },
  {
   "cell_type": "code",
   "execution_count": null,
   "id": "de2a7578",
   "metadata": {},
   "outputs": [],
   "source": [
    "gsDt.best_params_"
   ]
  },
  {
   "cell_type": "code",
   "execution_count": null,
   "id": "25083d16",
   "metadata": {},
   "outputs": [],
   "source": [
    "dt_hypertuned=DecisionTreeClassifier(max_depth=10,min_samples_leaf=1,min_samples_split=2)\n",
    "                          \n",
    "mymodel(dt_hypertuned)"
   ]
  },
  {
   "cell_type": "markdown",
   "id": "663f66a1",
   "metadata": {},
   "source": [
    "## KNN"
   ]
  },
  {
   "cell_type": "code",
   "execution_count": null,
   "id": "0c0e049b",
   "metadata": {},
   "outputs": [],
   "source": [
    "mymodel(knn)"
   ]
  },
  {
   "cell_type": "markdown",
   "id": "94fe112c",
   "metadata": {},
   "source": [
    "## Hypertuning KNN"
   ]
  },
  {
   "cell_type": "code",
   "execution_count": null,
   "id": "e3fc179b",
   "metadata": {},
   "outputs": [],
   "source": [
    "grid_params = { 'n_neighbors' : [5,7,9,11,13,15],\n",
    "               'weights' : ['uniform','distance'],\n",
    "               'metric' : ['minkowski','euclidean','manhattan']}\n",
    "gs = GridSearchCV(knn, grid_params, verbose = 1, cv=3, n_jobs = -1)"
   ]
  },
  {
   "cell_type": "code",
   "execution_count": null,
   "id": "234dbc02",
   "metadata": {
    "scrolled": true
   },
   "outputs": [],
   "source": [
    "gs.fit(x_train,y_train)"
   ]
  },
  {
   "cell_type": "code",
   "execution_count": null,
   "id": "913bca4f",
   "metadata": {},
   "outputs": [],
   "source": [
    "grid_params = { 'n_neighbors' : [5,7,9,11,13,15],\n",
    "               'weights' : ['uniform','distance'],\n",
    "               'metric' : ['minkowski','euclidean','manhattan']}\n",
    "gs2 = GridSearchCV(knn, grid_params, verbose = 1, cv=3, n_jobs = -1)"
   ]
  },
  {
   "cell_type": "code",
   "execution_count": null,
   "id": "29240125",
   "metadata": {},
   "outputs": [],
   "source": [
    "gs2.fit(x_train,y_train)"
   ]
  },
  {
   "cell_type": "code",
   "execution_count": null,
   "id": "2488cb6c",
   "metadata": {},
   "outputs": [],
   "source": [
    "gs2.best_params_"
   ]
  },
  {
   "cell_type": "code",
   "execution_count": null,
   "id": "9ab1b047",
   "metadata": {},
   "outputs": [],
   "source": [
    "knn = KNeighborsClassifier(metric= 'manhattan', n_neighbors= 15, weights= 'distance')\n",
    "mymodel(knn)"
   ]
  },
  {
   "cell_type": "markdown",
   "id": "85cc2430",
   "metadata": {},
   "source": [
    "## Random Forest"
   ]
  },
  {
   "cell_type": "code",
   "execution_count": 72,
   "id": "6bb0969d",
   "metadata": {
    "scrolled": true
   },
   "outputs": [
    {
     "name": "stdout",
     "output_type": "stream",
     "text": [
      "              precision    recall  f1-score   support\n",
      "\n",
      "           0       0.98      0.91      0.94     18113\n",
      "           1       0.92      0.98      0.95     18126\n",
      "\n",
      "    accuracy                           0.95     36239\n",
      "   macro avg       0.95      0.95      0.95     36239\n",
      "weighted avg       0.95      0.95      0.95     36239\n",
      "\n"
     ]
    },
    {
     "data": {
      "text/html": [
       "<style>#sk-container-id-4 {color: black;background-color: white;}#sk-container-id-4 pre{padding: 0;}#sk-container-id-4 div.sk-toggleable {background-color: white;}#sk-container-id-4 label.sk-toggleable__label {cursor: pointer;display: block;width: 100%;margin-bottom: 0;padding: 0.3em;box-sizing: border-box;text-align: center;}#sk-container-id-4 label.sk-toggleable__label-arrow:before {content: \"▸\";float: left;margin-right: 0.25em;color: #696969;}#sk-container-id-4 label.sk-toggleable__label-arrow:hover:before {color: black;}#sk-container-id-4 div.sk-estimator:hover label.sk-toggleable__label-arrow:before {color: black;}#sk-container-id-4 div.sk-toggleable__content {max-height: 0;max-width: 0;overflow: hidden;text-align: left;background-color: #f0f8ff;}#sk-container-id-4 div.sk-toggleable__content pre {margin: 0.2em;color: black;border-radius: 0.25em;background-color: #f0f8ff;}#sk-container-id-4 input.sk-toggleable__control:checked~div.sk-toggleable__content {max-height: 200px;max-width: 100%;overflow: auto;}#sk-container-id-4 input.sk-toggleable__control:checked~label.sk-toggleable__label-arrow:before {content: \"▾\";}#sk-container-id-4 div.sk-estimator input.sk-toggleable__control:checked~label.sk-toggleable__label {background-color: #d4ebff;}#sk-container-id-4 div.sk-label input.sk-toggleable__control:checked~label.sk-toggleable__label {background-color: #d4ebff;}#sk-container-id-4 input.sk-hidden--visually {border: 0;clip: rect(1px 1px 1px 1px);clip: rect(1px, 1px, 1px, 1px);height: 1px;margin: -1px;overflow: hidden;padding: 0;position: absolute;width: 1px;}#sk-container-id-4 div.sk-estimator {font-family: monospace;background-color: #f0f8ff;border: 1px dotted black;border-radius: 0.25em;box-sizing: border-box;margin-bottom: 0.5em;}#sk-container-id-4 div.sk-estimator:hover {background-color: #d4ebff;}#sk-container-id-4 div.sk-parallel-item::after {content: \"\";width: 100%;border-bottom: 1px solid gray;flex-grow: 1;}#sk-container-id-4 div.sk-label:hover label.sk-toggleable__label {background-color: #d4ebff;}#sk-container-id-4 div.sk-serial::before {content: \"\";position: absolute;border-left: 1px solid gray;box-sizing: border-box;top: 0;bottom: 0;left: 50%;z-index: 0;}#sk-container-id-4 div.sk-serial {display: flex;flex-direction: column;align-items: center;background-color: white;padding-right: 0.2em;padding-left: 0.2em;position: relative;}#sk-container-id-4 div.sk-item {position: relative;z-index: 1;}#sk-container-id-4 div.sk-parallel {display: flex;align-items: stretch;justify-content: center;background-color: white;position: relative;}#sk-container-id-4 div.sk-item::before, #sk-container-id-4 div.sk-parallel-item::before {content: \"\";position: absolute;border-left: 1px solid gray;box-sizing: border-box;top: 0;bottom: 0;left: 50%;z-index: -1;}#sk-container-id-4 div.sk-parallel-item {display: flex;flex-direction: column;z-index: 1;position: relative;background-color: white;}#sk-container-id-4 div.sk-parallel-item:first-child::after {align-self: flex-end;width: 50%;}#sk-container-id-4 div.sk-parallel-item:last-child::after {align-self: flex-start;width: 50%;}#sk-container-id-4 div.sk-parallel-item:only-child::after {width: 0;}#sk-container-id-4 div.sk-dashed-wrapped {border: 1px dashed gray;margin: 0 0.4em 0.5em 0.4em;box-sizing: border-box;padding-bottom: 0.4em;background-color: white;}#sk-container-id-4 div.sk-label label {font-family: monospace;font-weight: bold;display: inline-block;line-height: 1.2em;}#sk-container-id-4 div.sk-label-container {text-align: center;}#sk-container-id-4 div.sk-container {/* jupyter's `normalize.less` sets `[hidden] { display: none; }` but bootstrap.min.css set `[hidden] { display: none !important; }` so we also need the `!important` here to be able to override the default hidden behavior on the sphinx rendered scikit-learn.org. See: https://github.com/scikit-learn/scikit-learn/issues/21755 */display: inline-block !important;position: relative;}#sk-container-id-4 div.sk-text-repr-fallback {display: none;}</style><div id=\"sk-container-id-4\" class=\"sk-top-container\"><div class=\"sk-text-repr-fallback\"><pre>RandomForestClassifier(random_state=42)</pre><b>In a Jupyter environment, please rerun this cell to show the HTML representation or trust the notebook. <br />On GitHub, the HTML representation is unable to render, please try loading this page with nbviewer.org.</b></div><div class=\"sk-container\" hidden><div class=\"sk-item\"><div class=\"sk-estimator sk-toggleable\"><input class=\"sk-toggleable__control sk-hidden--visually\" id=\"sk-estimator-id-8\" type=\"checkbox\" checked><label for=\"sk-estimator-id-8\" class=\"sk-toggleable__label sk-toggleable__label-arrow\">RandomForestClassifier</label><div class=\"sk-toggleable__content\"><pre>RandomForestClassifier(random_state=42)</pre></div></div></div></div></div>"
      ],
      "text/plain": [
       "RandomForestClassifier(random_state=42)"
      ]
     },
     "execution_count": 72,
     "metadata": {},
     "output_type": "execute_result"
    }
   ],
   "source": [
    "mymodel(rf)"
   ]
  },
  {
   "cell_type": "code",
   "execution_count": 40,
   "id": "4398c36d",
   "metadata": {},
   "outputs": [],
   "source": [
    "\n",
    "#duplicate\n",
    "rf_params = {\n",
    "    'n_estimators': [100, 200, 300], #https://numpy.org/doc/stable/reference/random/generated/numpy.random.randint.html\n",
    "    'criterion': ['gini', 'entropy'],\n",
    "    'max_depth': [None, 10, 20, 30],\n",
    "    'min_samples_split': [2, 5, 10],\n",
    "    'min_samples_leaf': [1, 2, 4],\n",
    "    'max_features': ['auto', 'sqrt', 'log2']\n",
    "}\n",
    "gsRf = GridSearchCV(estimator=rf,param_grid=rf_params, cv=5)\n"
   ]
  },
  {
   "cell_type": "code",
   "execution_count": 83,
   "id": "6ff3b930",
   "metadata": {},
   "outputs": [],
   "source": [
    "forest_params = [{'max_depth': list(range(10, 15)), 'max_features': list(range(0,14))}]\n",
    "gsRf = GridSearchCV(estimator=rf,param_grid=forest_params, cv=5, n_jobs=2)\n"
   ]
  },
  {
   "cell_type": "code",
   "execution_count": 37,
   "id": "a3ed2cee",
   "metadata": {},
   "outputs": [],
   "source": [
    "#duplicate\n",
    "param_grid = { \n",
    "    'n_estimators': [200, 500],\n",
    "    'max_features': ['auto', 'sqrt', 'log2'],\n",
    "    'max_depth' : [4,5,6,7,8],\n",
    "    'criterion' :['gini', 'entropy']\n",
    "}\n",
    "\n",
    "gsRf = GridSearchCV(estimator=rf,param_grid=param_grid, cv=5, n_jobs=-1)\n"
   ]
  },
  {
   "cell_type": "code",
   "execution_count": 65,
   "id": "2d6f3257",
   "metadata": {
    "scrolled": true
   },
   "outputs": [
    {
     "data": {
      "text/html": [
       "<style>#sk-container-id-1 {color: black;background-color: white;}#sk-container-id-1 pre{padding: 0;}#sk-container-id-1 div.sk-toggleable {background-color: white;}#sk-container-id-1 label.sk-toggleable__label {cursor: pointer;display: block;width: 100%;margin-bottom: 0;padding: 0.3em;box-sizing: border-box;text-align: center;}#sk-container-id-1 label.sk-toggleable__label-arrow:before {content: \"▸\";float: left;margin-right: 0.25em;color: #696969;}#sk-container-id-1 label.sk-toggleable__label-arrow:hover:before {color: black;}#sk-container-id-1 div.sk-estimator:hover label.sk-toggleable__label-arrow:before {color: black;}#sk-container-id-1 div.sk-toggleable__content {max-height: 0;max-width: 0;overflow: hidden;text-align: left;background-color: #f0f8ff;}#sk-container-id-1 div.sk-toggleable__content pre {margin: 0.2em;color: black;border-radius: 0.25em;background-color: #f0f8ff;}#sk-container-id-1 input.sk-toggleable__control:checked~div.sk-toggleable__content {max-height: 200px;max-width: 100%;overflow: auto;}#sk-container-id-1 input.sk-toggleable__control:checked~label.sk-toggleable__label-arrow:before {content: \"▾\";}#sk-container-id-1 div.sk-estimator input.sk-toggleable__control:checked~label.sk-toggleable__label {background-color: #d4ebff;}#sk-container-id-1 div.sk-label input.sk-toggleable__control:checked~label.sk-toggleable__label {background-color: #d4ebff;}#sk-container-id-1 input.sk-hidden--visually {border: 0;clip: rect(1px 1px 1px 1px);clip: rect(1px, 1px, 1px, 1px);height: 1px;margin: -1px;overflow: hidden;padding: 0;position: absolute;width: 1px;}#sk-container-id-1 div.sk-estimator {font-family: monospace;background-color: #f0f8ff;border: 1px dotted black;border-radius: 0.25em;box-sizing: border-box;margin-bottom: 0.5em;}#sk-container-id-1 div.sk-estimator:hover {background-color: #d4ebff;}#sk-container-id-1 div.sk-parallel-item::after {content: \"\";width: 100%;border-bottom: 1px solid gray;flex-grow: 1;}#sk-container-id-1 div.sk-label:hover label.sk-toggleable__label {background-color: #d4ebff;}#sk-container-id-1 div.sk-serial::before {content: \"\";position: absolute;border-left: 1px solid gray;box-sizing: border-box;top: 0;bottom: 0;left: 50%;z-index: 0;}#sk-container-id-1 div.sk-serial {display: flex;flex-direction: column;align-items: center;background-color: white;padding-right: 0.2em;padding-left: 0.2em;position: relative;}#sk-container-id-1 div.sk-item {position: relative;z-index: 1;}#sk-container-id-1 div.sk-parallel {display: flex;align-items: stretch;justify-content: center;background-color: white;position: relative;}#sk-container-id-1 div.sk-item::before, #sk-container-id-1 div.sk-parallel-item::before {content: \"\";position: absolute;border-left: 1px solid gray;box-sizing: border-box;top: 0;bottom: 0;left: 50%;z-index: -1;}#sk-container-id-1 div.sk-parallel-item {display: flex;flex-direction: column;z-index: 1;position: relative;background-color: white;}#sk-container-id-1 div.sk-parallel-item:first-child::after {align-self: flex-end;width: 50%;}#sk-container-id-1 div.sk-parallel-item:last-child::after {align-self: flex-start;width: 50%;}#sk-container-id-1 div.sk-parallel-item:only-child::after {width: 0;}#sk-container-id-1 div.sk-dashed-wrapped {border: 1px dashed gray;margin: 0 0.4em 0.5em 0.4em;box-sizing: border-box;padding-bottom: 0.4em;background-color: white;}#sk-container-id-1 div.sk-label label {font-family: monospace;font-weight: bold;display: inline-block;line-height: 1.2em;}#sk-container-id-1 div.sk-label-container {text-align: center;}#sk-container-id-1 div.sk-container {/* jupyter's `normalize.less` sets `[hidden] { display: none; }` but bootstrap.min.css set `[hidden] { display: none !important; }` so we also need the `!important` here to be able to override the default hidden behavior on the sphinx rendered scikit-learn.org. See: https://github.com/scikit-learn/scikit-learn/issues/21755 */display: inline-block !important;position: relative;}#sk-container-id-1 div.sk-text-repr-fallback {display: none;}</style><div id=\"sk-container-id-1\" class=\"sk-top-container\"><div class=\"sk-text-repr-fallback\"><pre>GridSearchCV(cv=5, estimator=RandomForestClassifier(random_state=42), n_jobs=-1,\n",
       "             param_grid=[{&#x27;max_depth&#x27;: [10, 11, 12, 13, 14],\n",
       "                          &#x27;max_features&#x27;: [0, 1, 2, 3, 4, 5, 6, 7, 8, 9, 10, 11,\n",
       "                                           12, 13]}])</pre><b>In a Jupyter environment, please rerun this cell to show the HTML representation or trust the notebook. <br />On GitHub, the HTML representation is unable to render, please try loading this page with nbviewer.org.</b></div><div class=\"sk-container\" hidden><div class=\"sk-item sk-dashed-wrapped\"><div class=\"sk-label-container\"><div class=\"sk-label sk-toggleable\"><input class=\"sk-toggleable__control sk-hidden--visually\" id=\"sk-estimator-id-1\" type=\"checkbox\" ><label for=\"sk-estimator-id-1\" class=\"sk-toggleable__label sk-toggleable__label-arrow\">GridSearchCV</label><div class=\"sk-toggleable__content\"><pre>GridSearchCV(cv=5, estimator=RandomForestClassifier(random_state=42), n_jobs=-1,\n",
       "             param_grid=[{&#x27;max_depth&#x27;: [10, 11, 12, 13, 14],\n",
       "                          &#x27;max_features&#x27;: [0, 1, 2, 3, 4, 5, 6, 7, 8, 9, 10, 11,\n",
       "                                           12, 13]}])</pre></div></div></div><div class=\"sk-parallel\"><div class=\"sk-parallel-item\"><div class=\"sk-item\"><div class=\"sk-label-container\"><div class=\"sk-label sk-toggleable\"><input class=\"sk-toggleable__control sk-hidden--visually\" id=\"sk-estimator-id-2\" type=\"checkbox\" ><label for=\"sk-estimator-id-2\" class=\"sk-toggleable__label sk-toggleable__label-arrow\">estimator: RandomForestClassifier</label><div class=\"sk-toggleable__content\"><pre>RandomForestClassifier(random_state=42)</pre></div></div></div><div class=\"sk-serial\"><div class=\"sk-item\"><div class=\"sk-estimator sk-toggleable\"><input class=\"sk-toggleable__control sk-hidden--visually\" id=\"sk-estimator-id-3\" type=\"checkbox\" ><label for=\"sk-estimator-id-3\" class=\"sk-toggleable__label sk-toggleable__label-arrow\">RandomForestClassifier</label><div class=\"sk-toggleable__content\"><pre>RandomForestClassifier(random_state=42)</pre></div></div></div></div></div></div></div></div></div></div>"
      ],
      "text/plain": [
       "GridSearchCV(cv=5, estimator=RandomForestClassifier(random_state=42), n_jobs=-1,\n",
       "             param_grid=[{'max_depth': [10, 11, 12, 13, 14],\n",
       "                          'max_features': [0, 1, 2, 3, 4, 5, 6, 7, 8, 9, 10, 11,\n",
       "                                           12, 13]}])"
      ]
     },
     "execution_count": 65,
     "metadata": {},
     "output_type": "execute_result"
    }
   ],
   "source": [
    "gsRf.fit(x_train, y_train)"
   ]
  },
  {
   "cell_type": "code",
   "execution_count": 84,
   "id": "39f819dd",
   "metadata": {},
   "outputs": [
    {
     "data": {
      "text/html": [
       "<style>#sk-container-id-4 {color: black;background-color: white;}#sk-container-id-4 pre{padding: 0;}#sk-container-id-4 div.sk-toggleable {background-color: white;}#sk-container-id-4 label.sk-toggleable__label {cursor: pointer;display: block;width: 100%;margin-bottom: 0;padding: 0.3em;box-sizing: border-box;text-align: center;}#sk-container-id-4 label.sk-toggleable__label-arrow:before {content: \"▸\";float: left;margin-right: 0.25em;color: #696969;}#sk-container-id-4 label.sk-toggleable__label-arrow:hover:before {color: black;}#sk-container-id-4 div.sk-estimator:hover label.sk-toggleable__label-arrow:before {color: black;}#sk-container-id-4 div.sk-toggleable__content {max-height: 0;max-width: 0;overflow: hidden;text-align: left;background-color: #f0f8ff;}#sk-container-id-4 div.sk-toggleable__content pre {margin: 0.2em;color: black;border-radius: 0.25em;background-color: #f0f8ff;}#sk-container-id-4 input.sk-toggleable__control:checked~div.sk-toggleable__content {max-height: 200px;max-width: 100%;overflow: auto;}#sk-container-id-4 input.sk-toggleable__control:checked~label.sk-toggleable__label-arrow:before {content: \"▾\";}#sk-container-id-4 div.sk-estimator input.sk-toggleable__control:checked~label.sk-toggleable__label {background-color: #d4ebff;}#sk-container-id-4 div.sk-label input.sk-toggleable__control:checked~label.sk-toggleable__label {background-color: #d4ebff;}#sk-container-id-4 input.sk-hidden--visually {border: 0;clip: rect(1px 1px 1px 1px);clip: rect(1px, 1px, 1px, 1px);height: 1px;margin: -1px;overflow: hidden;padding: 0;position: absolute;width: 1px;}#sk-container-id-4 div.sk-estimator {font-family: monospace;background-color: #f0f8ff;border: 1px dotted black;border-radius: 0.25em;box-sizing: border-box;margin-bottom: 0.5em;}#sk-container-id-4 div.sk-estimator:hover {background-color: #d4ebff;}#sk-container-id-4 div.sk-parallel-item::after {content: \"\";width: 100%;border-bottom: 1px solid gray;flex-grow: 1;}#sk-container-id-4 div.sk-label:hover label.sk-toggleable__label {background-color: #d4ebff;}#sk-container-id-4 div.sk-serial::before {content: \"\";position: absolute;border-left: 1px solid gray;box-sizing: border-box;top: 0;bottom: 0;left: 50%;z-index: 0;}#sk-container-id-4 div.sk-serial {display: flex;flex-direction: column;align-items: center;background-color: white;padding-right: 0.2em;padding-left: 0.2em;position: relative;}#sk-container-id-4 div.sk-item {position: relative;z-index: 1;}#sk-container-id-4 div.sk-parallel {display: flex;align-items: stretch;justify-content: center;background-color: white;position: relative;}#sk-container-id-4 div.sk-item::before, #sk-container-id-4 div.sk-parallel-item::before {content: \"\";position: absolute;border-left: 1px solid gray;box-sizing: border-box;top: 0;bottom: 0;left: 50%;z-index: -1;}#sk-container-id-4 div.sk-parallel-item {display: flex;flex-direction: column;z-index: 1;position: relative;background-color: white;}#sk-container-id-4 div.sk-parallel-item:first-child::after {align-self: flex-end;width: 50%;}#sk-container-id-4 div.sk-parallel-item:last-child::after {align-self: flex-start;width: 50%;}#sk-container-id-4 div.sk-parallel-item:only-child::after {width: 0;}#sk-container-id-4 div.sk-dashed-wrapped {border: 1px dashed gray;margin: 0 0.4em 0.5em 0.4em;box-sizing: border-box;padding-bottom: 0.4em;background-color: white;}#sk-container-id-4 div.sk-label label {font-family: monospace;font-weight: bold;display: inline-block;line-height: 1.2em;}#sk-container-id-4 div.sk-label-container {text-align: center;}#sk-container-id-4 div.sk-container {/* jupyter's `normalize.less` sets `[hidden] { display: none; }` but bootstrap.min.css set `[hidden] { display: none !important; }` so we also need the `!important` here to be able to override the default hidden behavior on the sphinx rendered scikit-learn.org. See: https://github.com/scikit-learn/scikit-learn/issues/21755 */display: inline-block !important;position: relative;}#sk-container-id-4 div.sk-text-repr-fallback {display: none;}</style><div id=\"sk-container-id-4\" class=\"sk-top-container\"><div class=\"sk-text-repr-fallback\"><pre>GridSearchCV(cv=5, estimator=RandomForestClassifier(random_state=42), n_jobs=2,\n",
       "             param_grid=[{&#x27;max_depth&#x27;: [10, 11, 12, 13, 14],\n",
       "                          &#x27;max_features&#x27;: [0, 1, 2, 3, 4, 5, 6, 7, 8, 9, 10, 11,\n",
       "                                           12, 13]}])</pre><b>In a Jupyter environment, please rerun this cell to show the HTML representation or trust the notebook. <br />On GitHub, the HTML representation is unable to render, please try loading this page with nbviewer.org.</b></div><div class=\"sk-container\" hidden><div class=\"sk-item sk-dashed-wrapped\"><div class=\"sk-label-container\"><div class=\"sk-label sk-toggleable\"><input class=\"sk-toggleable__control sk-hidden--visually\" id=\"sk-estimator-id-8\" type=\"checkbox\" ><label for=\"sk-estimator-id-8\" class=\"sk-toggleable__label sk-toggleable__label-arrow\">GridSearchCV</label><div class=\"sk-toggleable__content\"><pre>GridSearchCV(cv=5, estimator=RandomForestClassifier(random_state=42), n_jobs=2,\n",
       "             param_grid=[{&#x27;max_depth&#x27;: [10, 11, 12, 13, 14],\n",
       "                          &#x27;max_features&#x27;: [0, 1, 2, 3, 4, 5, 6, 7, 8, 9, 10, 11,\n",
       "                                           12, 13]}])</pre></div></div></div><div class=\"sk-parallel\"><div class=\"sk-parallel-item\"><div class=\"sk-item\"><div class=\"sk-label-container\"><div class=\"sk-label sk-toggleable\"><input class=\"sk-toggleable__control sk-hidden--visually\" id=\"sk-estimator-id-9\" type=\"checkbox\" ><label for=\"sk-estimator-id-9\" class=\"sk-toggleable__label sk-toggleable__label-arrow\">estimator: RandomForestClassifier</label><div class=\"sk-toggleable__content\"><pre>RandomForestClassifier(random_state=42)</pre></div></div></div><div class=\"sk-serial\"><div class=\"sk-item\"><div class=\"sk-estimator sk-toggleable\"><input class=\"sk-toggleable__control sk-hidden--visually\" id=\"sk-estimator-id-10\" type=\"checkbox\" ><label for=\"sk-estimator-id-10\" class=\"sk-toggleable__label sk-toggleable__label-arrow\">RandomForestClassifier</label><div class=\"sk-toggleable__content\"><pre>RandomForestClassifier(random_state=42)</pre></div></div></div></div></div></div></div></div></div></div>"
      ],
      "text/plain": [
       "GridSearchCV(cv=5, estimator=RandomForestClassifier(random_state=42), n_jobs=2,\n",
       "             param_grid=[{'max_depth': [10, 11, 12, 13, 14],\n",
       "                          'max_features': [0, 1, 2, 3, 4, 5, 6, 7, 8, 9, 10, 11,\n",
       "                                           12, 13]}])"
      ]
     },
     "execution_count": 84,
     "metadata": {},
     "output_type": "execute_result"
    }
   ],
   "source": [
    "#duplicate\n",
    "gsRf.fit(x_train, y_train)"
   ]
  },
  {
   "cell_type": "code",
   "execution_count": 68,
   "id": "3f8b18ff",
   "metadata": {
    "scrolled": true
   },
   "outputs": [
    {
     "data": {
      "text/plain": [
       "{'max_depth': 14, 'max_features': 10}"
      ]
     },
     "execution_count": 68,
     "metadata": {},
     "output_type": "execute_result"
    }
   ],
   "source": [
    "gsRf.best_params_"
   ]
  },
  {
   "cell_type": "code",
   "execution_count": 85,
   "id": "a6122ced",
   "metadata": {},
   "outputs": [
    {
     "data": {
      "text/plain": [
       "{'max_depth': 14, 'max_features': 6}"
      ]
     },
     "execution_count": 85,
     "metadata": {},
     "output_type": "execute_result"
    }
   ],
   "source": [
    "#duplicate\n",
    "gsRf.best_params_"
   ]
  },
  {
   "cell_type": "code",
   "execution_count": 93,
   "id": "53a330ea",
   "metadata": {},
   "outputs": [
    {
     "data": {
      "text/html": [
       "<div>\n",
       "<style scoped>\n",
       "    .dataframe tbody tr th:only-of-type {\n",
       "        vertical-align: middle;\n",
       "    }\n",
       "\n",
       "    .dataframe tbody tr th {\n",
       "        vertical-align: top;\n",
       "    }\n",
       "\n",
       "    .dataframe thead th {\n",
       "        text-align: right;\n",
       "    }\n",
       "</style>\n",
       "<table border=\"1\" class=\"dataframe\">\n",
       "  <thead>\n",
       "    <tr style=\"text-align: right;\">\n",
       "      <th></th>\n",
       "      <th>Supplies Subgroup</th>\n",
       "      <th>Supplies Group</th>\n",
       "      <th>Region</th>\n",
       "      <th>Route To Market</th>\n",
       "      <th>Elapsed Days In Sales Stage</th>\n",
       "      <th>Sales Stage Change Count</th>\n",
       "      <th>Total Days Identified Through Closing</th>\n",
       "      <th>Total Days Identified Through Qualified</th>\n",
       "      <th>Opportunity Amount USD</th>\n",
       "      <th>Client Size By Revenue</th>\n",
       "      <th>Client Size By Employee Count</th>\n",
       "      <th>Revenue From Client Past Two Years</th>\n",
       "      <th>Competitor Type</th>\n",
       "      <th>Ratio Days Identified To Total Days</th>\n",
       "      <th>Ratio Days Validated To Total Days</th>\n",
       "      <th>Ratio Days Qualified To Total Days</th>\n",
       "      <th>Deal Size Category</th>\n",
       "      <th>Opportunity Result</th>\n",
       "    </tr>\n",
       "  </thead>\n",
       "  <tbody>\n",
       "    <tr>\n",
       "      <th>78020</th>\n",
       "      <td>Batteries &amp; Accessories</td>\n",
       "      <td>Car Accessories</td>\n",
       "      <td>Southeast</td>\n",
       "      <td>Reseller</td>\n",
       "      <td>0</td>\n",
       "      <td>2</td>\n",
       "      <td>0</td>\n",
       "      <td>0</td>\n",
       "      <td>250000</td>\n",
       "      <td>1</td>\n",
       "      <td>1</td>\n",
       "      <td>3</td>\n",
       "      <td>Unknown</td>\n",
       "      <td>0.0</td>\n",
       "      <td>0.0</td>\n",
       "      <td>0.0</td>\n",
       "      <td>6</td>\n",
       "      <td>Loss</td>\n",
       "    </tr>\n",
       "    <tr>\n",
       "      <th>78021</th>\n",
       "      <td>Shelters &amp; RV</td>\n",
       "      <td>Performance &amp; Non-auto</td>\n",
       "      <td>Northeast</td>\n",
       "      <td>Reseller</td>\n",
       "      <td>0</td>\n",
       "      <td>1</td>\n",
       "      <td>0</td>\n",
       "      <td>0</td>\n",
       "      <td>180000</td>\n",
       "      <td>1</td>\n",
       "      <td>1</td>\n",
       "      <td>0</td>\n",
       "      <td>Unknown</td>\n",
       "      <td>0.0</td>\n",
       "      <td>0.0</td>\n",
       "      <td>0.0</td>\n",
       "      <td>5</td>\n",
       "      <td>Won</td>\n",
       "    </tr>\n",
       "    <tr>\n",
       "      <th>78022</th>\n",
       "      <td>Exterior Accessories</td>\n",
       "      <td>Car Accessories</td>\n",
       "      <td>Southeast</td>\n",
       "      <td>Reseller</td>\n",
       "      <td>0</td>\n",
       "      <td>2</td>\n",
       "      <td>0</td>\n",
       "      <td>0</td>\n",
       "      <td>90000</td>\n",
       "      <td>1</td>\n",
       "      <td>1</td>\n",
       "      <td>0</td>\n",
       "      <td>Unknown</td>\n",
       "      <td>0.0</td>\n",
       "      <td>0.0</td>\n",
       "      <td>0.0</td>\n",
       "      <td>4</td>\n",
       "      <td>Loss</td>\n",
       "    </tr>\n",
       "    <tr>\n",
       "      <th>78023</th>\n",
       "      <td>Exterior Accessories</td>\n",
       "      <td>Car Accessories</td>\n",
       "      <td>Southeast</td>\n",
       "      <td>Fields Sales</td>\n",
       "      <td>0</td>\n",
       "      <td>2</td>\n",
       "      <td>0</td>\n",
       "      <td>0</td>\n",
       "      <td>120000</td>\n",
       "      <td>1</td>\n",
       "      <td>1</td>\n",
       "      <td>0</td>\n",
       "      <td>Unknown</td>\n",
       "      <td>1.0</td>\n",
       "      <td>0.0</td>\n",
       "      <td>0.0</td>\n",
       "      <td>5</td>\n",
       "      <td>Loss</td>\n",
       "    </tr>\n",
       "    <tr>\n",
       "      <th>78024</th>\n",
       "      <td>Interior Accessories</td>\n",
       "      <td>Car Accessories</td>\n",
       "      <td>Mid-Atlantic</td>\n",
       "      <td>Reseller</td>\n",
       "      <td>0</td>\n",
       "      <td>1</td>\n",
       "      <td>0</td>\n",
       "      <td>0</td>\n",
       "      <td>90000</td>\n",
       "      <td>1</td>\n",
       "      <td>1</td>\n",
       "      <td>0</td>\n",
       "      <td>Unknown</td>\n",
       "      <td>0.0</td>\n",
       "      <td>0.0</td>\n",
       "      <td>0.0</td>\n",
       "      <td>4</td>\n",
       "      <td>Loss</td>\n",
       "    </tr>\n",
       "  </tbody>\n",
       "</table>\n",
       "</div>"
      ],
      "text/plain": [
       "             Supplies Subgroup          Supplies Group        Region  \\\n",
       "78020  Batteries & Accessories         Car Accessories     Southeast   \n",
       "78021            Shelters & RV  Performance & Non-auto     Northeast   \n",
       "78022     Exterior Accessories         Car Accessories     Southeast   \n",
       "78023     Exterior Accessories         Car Accessories     Southeast   \n",
       "78024     Interior Accessories         Car Accessories  Mid-Atlantic   \n",
       "\n",
       "      Route To Market  Elapsed Days In Sales Stage  Sales Stage Change Count  \\\n",
       "78020        Reseller                            0                         2   \n",
       "78021        Reseller                            0                         1   \n",
       "78022        Reseller                            0                         2   \n",
       "78023    Fields Sales                            0                         2   \n",
       "78024        Reseller                            0                         1   \n",
       "\n",
       "       Total Days Identified Through Closing  \\\n",
       "78020                                      0   \n",
       "78021                                      0   \n",
       "78022                                      0   \n",
       "78023                                      0   \n",
       "78024                                      0   \n",
       "\n",
       "       Total Days Identified Through Qualified  Opportunity Amount USD  \\\n",
       "78020                                        0                  250000   \n",
       "78021                                        0                  180000   \n",
       "78022                                        0                   90000   \n",
       "78023                                        0                  120000   \n",
       "78024                                        0                   90000   \n",
       "\n",
       "       Client Size By Revenue  Client Size By Employee Count  \\\n",
       "78020                       1                              1   \n",
       "78021                       1                              1   \n",
       "78022                       1                              1   \n",
       "78023                       1                              1   \n",
       "78024                       1                              1   \n",
       "\n",
       "       Revenue From Client Past Two Years Competitor Type  \\\n",
       "78020                                   3         Unknown   \n",
       "78021                                   0         Unknown   \n",
       "78022                                   0         Unknown   \n",
       "78023                                   0         Unknown   \n",
       "78024                                   0         Unknown   \n",
       "\n",
       "       Ratio Days Identified To Total Days  \\\n",
       "78020                                  0.0   \n",
       "78021                                  0.0   \n",
       "78022                                  0.0   \n",
       "78023                                  1.0   \n",
       "78024                                  0.0   \n",
       "\n",
       "       Ratio Days Validated To Total Days  Ratio Days Qualified To Total Days  \\\n",
       "78020                                 0.0                                 0.0   \n",
       "78021                                 0.0                                 0.0   \n",
       "78022                                 0.0                                 0.0   \n",
       "78023                                 0.0                                 0.0   \n",
       "78024                                 0.0                                 0.0   \n",
       "\n",
       "       Deal Size Category Opportunity Result  \n",
       "78020                   6               Loss  \n",
       "78021                   5                Won  \n",
       "78022                   4               Loss  \n",
       "78023                   5               Loss  \n",
       "78024                   4               Loss  "
      ]
     },
     "execution_count": 93,
     "metadata": {},
     "output_type": "execute_result"
    }
   ],
   "source": [
    "df.tail()"
   ]
  },
  {
   "cell_type": "code",
   "execution_count": 53,
   "id": "01e6bbb8",
   "metadata": {},
   "outputs": [
    {
     "name": "stdout",
     "output_type": "stream",
     "text": [
      "              precision    recall  f1-score   support\n",
      "\n",
      "           0       0.91      0.95      0.93     18089\n",
      "           1       0.79      0.67      0.72      5319\n",
      "\n",
      "    accuracy                           0.88     23408\n",
      "   macro avg       0.85      0.81      0.83     23408\n",
      "weighted avg       0.88      0.88      0.88     23408\n",
      "\n"
     ]
    },
    {
     "data": {
      "text/html": [
       "<style>#sk-container-id-4 {color: black;background-color: white;}#sk-container-id-4 pre{padding: 0;}#sk-container-id-4 div.sk-toggleable {background-color: white;}#sk-container-id-4 label.sk-toggleable__label {cursor: pointer;display: block;width: 100%;margin-bottom: 0;padding: 0.3em;box-sizing: border-box;text-align: center;}#sk-container-id-4 label.sk-toggleable__label-arrow:before {content: \"▸\";float: left;margin-right: 0.25em;color: #696969;}#sk-container-id-4 label.sk-toggleable__label-arrow:hover:before {color: black;}#sk-container-id-4 div.sk-estimator:hover label.sk-toggleable__label-arrow:before {color: black;}#sk-container-id-4 div.sk-toggleable__content {max-height: 0;max-width: 0;overflow: hidden;text-align: left;background-color: #f0f8ff;}#sk-container-id-4 div.sk-toggleable__content pre {margin: 0.2em;color: black;border-radius: 0.25em;background-color: #f0f8ff;}#sk-container-id-4 input.sk-toggleable__control:checked~div.sk-toggleable__content {max-height: 200px;max-width: 100%;overflow: auto;}#sk-container-id-4 input.sk-toggleable__control:checked~label.sk-toggleable__label-arrow:before {content: \"▾\";}#sk-container-id-4 div.sk-estimator input.sk-toggleable__control:checked~label.sk-toggleable__label {background-color: #d4ebff;}#sk-container-id-4 div.sk-label input.sk-toggleable__control:checked~label.sk-toggleable__label {background-color: #d4ebff;}#sk-container-id-4 input.sk-hidden--visually {border: 0;clip: rect(1px 1px 1px 1px);clip: rect(1px, 1px, 1px, 1px);height: 1px;margin: -1px;overflow: hidden;padding: 0;position: absolute;width: 1px;}#sk-container-id-4 div.sk-estimator {font-family: monospace;background-color: #f0f8ff;border: 1px dotted black;border-radius: 0.25em;box-sizing: border-box;margin-bottom: 0.5em;}#sk-container-id-4 div.sk-estimator:hover {background-color: #d4ebff;}#sk-container-id-4 div.sk-parallel-item::after {content: \"\";width: 100%;border-bottom: 1px solid gray;flex-grow: 1;}#sk-container-id-4 div.sk-label:hover label.sk-toggleable__label {background-color: #d4ebff;}#sk-container-id-4 div.sk-serial::before {content: \"\";position: absolute;border-left: 1px solid gray;box-sizing: border-box;top: 0;bottom: 0;left: 50%;z-index: 0;}#sk-container-id-4 div.sk-serial {display: flex;flex-direction: column;align-items: center;background-color: white;padding-right: 0.2em;padding-left: 0.2em;position: relative;}#sk-container-id-4 div.sk-item {position: relative;z-index: 1;}#sk-container-id-4 div.sk-parallel {display: flex;align-items: stretch;justify-content: center;background-color: white;position: relative;}#sk-container-id-4 div.sk-item::before, #sk-container-id-4 div.sk-parallel-item::before {content: \"\";position: absolute;border-left: 1px solid gray;box-sizing: border-box;top: 0;bottom: 0;left: 50%;z-index: -1;}#sk-container-id-4 div.sk-parallel-item {display: flex;flex-direction: column;z-index: 1;position: relative;background-color: white;}#sk-container-id-4 div.sk-parallel-item:first-child::after {align-self: flex-end;width: 50%;}#sk-container-id-4 div.sk-parallel-item:last-child::after {align-self: flex-start;width: 50%;}#sk-container-id-4 div.sk-parallel-item:only-child::after {width: 0;}#sk-container-id-4 div.sk-dashed-wrapped {border: 1px dashed gray;margin: 0 0.4em 0.5em 0.4em;box-sizing: border-box;padding-bottom: 0.4em;background-color: white;}#sk-container-id-4 div.sk-label label {font-family: monospace;font-weight: bold;display: inline-block;line-height: 1.2em;}#sk-container-id-4 div.sk-label-container {text-align: center;}#sk-container-id-4 div.sk-container {/* jupyter's `normalize.less` sets `[hidden] { display: none; }` but bootstrap.min.css set `[hidden] { display: none !important; }` so we also need the `!important` here to be able to override the default hidden behavior on the sphinx rendered scikit-learn.org. See: https://github.com/scikit-learn/scikit-learn/issues/21755 */display: inline-block !important;position: relative;}#sk-container-id-4 div.sk-text-repr-fallback {display: none;}</style><div id=\"sk-container-id-4\" class=\"sk-top-container\"><div class=\"sk-text-repr-fallback\"><pre>RandomForestClassifier(max_depth=14, max_features=10, random_state=42)</pre><b>In a Jupyter environment, please rerun this cell to show the HTML representation or trust the notebook. <br />On GitHub, the HTML representation is unable to render, please try loading this page with nbviewer.org.</b></div><div class=\"sk-container\" hidden><div class=\"sk-item\"><div class=\"sk-estimator sk-toggleable\"><input class=\"sk-toggleable__control sk-hidden--visually\" id=\"sk-estimator-id-4\" type=\"checkbox\" checked><label for=\"sk-estimator-id-4\" class=\"sk-toggleable__label sk-toggleable__label-arrow\">RandomForestClassifier</label><div class=\"sk-toggleable__content\"><pre>RandomForestClassifier(max_depth=14, max_features=10, random_state=42)</pre></div></div></div></div></div>"
      ],
      "text/plain": [
       "RandomForestClassifier(max_depth=14, max_features=10, random_state=42)"
      ]
     },
     "execution_count": 53,
     "metadata": {},
     "output_type": "execute_result"
    }
   ],
   "source": [
    "rf_hypertuned = RandomForestClassifier(max_depth= 14, max_features= 10, random_state=42)\n",
    "mymodel(rf_hypertuned)"
   ]
  },
  {
   "cell_type": "code",
   "execution_count": 94,
   "id": "28ed9630",
   "metadata": {},
   "outputs": [
    {
     "name": "stdout",
     "output_type": "stream",
     "text": [
      "              precision    recall  f1-score   support\n",
      "\n",
      "           0       0.97      0.93      0.95      2256\n",
      "           1       0.93      0.97      0.95      2160\n",
      "\n",
      "    accuracy                           0.95      4416\n",
      "   macro avg       0.95      0.95      0.95      4416\n",
      "weighted avg       0.95      0.95      0.95      4416\n",
      "\n"
     ]
    },
    {
     "data": {
      "text/plain": [
       "array([ 7,  8, 10,  9,  0,  3,  0,  0,  4,  2,  2,  5, 11,  1,  1,  1,  6],\n",
       "      dtype=int64)"
      ]
     },
     "execution_count": 94,
     "metadata": {},
     "output_type": "execute_result"
    }
   ],
   "source": [
    "rf_hypertuned = RandomForestClassifier(max_depth= 14, max_features= 6, random_state=42)\n",
    "mymodel(rf_hypertuned)\n",
    "input_data = (\"Batteries & Accessories\", \"Car Accessories\", \"Southeast\", \"Reseller\", 0, 2, 0, 0, 250000, 1, 1, 3, \"Unknown\", 0.0, 0.0, 0.0, 6)\n",
    "\n",
    "input_data_as_numpy_array = np.array(input_data)\n",
    "\n",
    "# reshape the array into 1 row and all columns-type,  as we are predicting for one instance\n",
    "input_data_reshaped = input_data_as_numpy_array.reshape(1,-1)\n",
    "\n",
    "prediction = rf_hypertuned.predict(input_data_reshaped)\n",
    "print(prediction)"
   ]
  },
  {
   "cell_type": "markdown",
   "id": "9e66bfff",
   "metadata": {},
   "source": [
    "## SVM"
   ]
  },
  {
   "cell_type": "code",
   "execution_count": 33,
   "id": "a3d1aab6",
   "metadata": {
    "scrolled": true
   },
   "outputs": [
    {
     "name": "stdout",
     "output_type": "stream",
     "text": [
      "              precision    recall  f1-score   support\n",
      "\n",
      "           0       0.84      0.81      0.82     18113\n",
      "           1       0.82      0.84      0.83     18126\n",
      "\n",
      "    accuracy                           0.83     36239\n",
      "   macro avg       0.83      0.83      0.83     36239\n",
      "weighted avg       0.83      0.83      0.83     36239\n",
      "\n"
     ]
    },
    {
     "data": {
      "text/html": [
       "<style>#sk-container-id-1 {color: black;background-color: white;}#sk-container-id-1 pre{padding: 0;}#sk-container-id-1 div.sk-toggleable {background-color: white;}#sk-container-id-1 label.sk-toggleable__label {cursor: pointer;display: block;width: 100%;margin-bottom: 0;padding: 0.3em;box-sizing: border-box;text-align: center;}#sk-container-id-1 label.sk-toggleable__label-arrow:before {content: \"▸\";float: left;margin-right: 0.25em;color: #696969;}#sk-container-id-1 label.sk-toggleable__label-arrow:hover:before {color: black;}#sk-container-id-1 div.sk-estimator:hover label.sk-toggleable__label-arrow:before {color: black;}#sk-container-id-1 div.sk-toggleable__content {max-height: 0;max-width: 0;overflow: hidden;text-align: left;background-color: #f0f8ff;}#sk-container-id-1 div.sk-toggleable__content pre {margin: 0.2em;color: black;border-radius: 0.25em;background-color: #f0f8ff;}#sk-container-id-1 input.sk-toggleable__control:checked~div.sk-toggleable__content {max-height: 200px;max-width: 100%;overflow: auto;}#sk-container-id-1 input.sk-toggleable__control:checked~label.sk-toggleable__label-arrow:before {content: \"▾\";}#sk-container-id-1 div.sk-estimator input.sk-toggleable__control:checked~label.sk-toggleable__label {background-color: #d4ebff;}#sk-container-id-1 div.sk-label input.sk-toggleable__control:checked~label.sk-toggleable__label {background-color: #d4ebff;}#sk-container-id-1 input.sk-hidden--visually {border: 0;clip: rect(1px 1px 1px 1px);clip: rect(1px, 1px, 1px, 1px);height: 1px;margin: -1px;overflow: hidden;padding: 0;position: absolute;width: 1px;}#sk-container-id-1 div.sk-estimator {font-family: monospace;background-color: #f0f8ff;border: 1px dotted black;border-radius: 0.25em;box-sizing: border-box;margin-bottom: 0.5em;}#sk-container-id-1 div.sk-estimator:hover {background-color: #d4ebff;}#sk-container-id-1 div.sk-parallel-item::after {content: \"\";width: 100%;border-bottom: 1px solid gray;flex-grow: 1;}#sk-container-id-1 div.sk-label:hover label.sk-toggleable__label {background-color: #d4ebff;}#sk-container-id-1 div.sk-serial::before {content: \"\";position: absolute;border-left: 1px solid gray;box-sizing: border-box;top: 0;bottom: 0;left: 50%;z-index: 0;}#sk-container-id-1 div.sk-serial {display: flex;flex-direction: column;align-items: center;background-color: white;padding-right: 0.2em;padding-left: 0.2em;position: relative;}#sk-container-id-1 div.sk-item {position: relative;z-index: 1;}#sk-container-id-1 div.sk-parallel {display: flex;align-items: stretch;justify-content: center;background-color: white;position: relative;}#sk-container-id-1 div.sk-item::before, #sk-container-id-1 div.sk-parallel-item::before {content: \"\";position: absolute;border-left: 1px solid gray;box-sizing: border-box;top: 0;bottom: 0;left: 50%;z-index: -1;}#sk-container-id-1 div.sk-parallel-item {display: flex;flex-direction: column;z-index: 1;position: relative;background-color: white;}#sk-container-id-1 div.sk-parallel-item:first-child::after {align-self: flex-end;width: 50%;}#sk-container-id-1 div.sk-parallel-item:last-child::after {align-self: flex-start;width: 50%;}#sk-container-id-1 div.sk-parallel-item:only-child::after {width: 0;}#sk-container-id-1 div.sk-dashed-wrapped {border: 1px dashed gray;margin: 0 0.4em 0.5em 0.4em;box-sizing: border-box;padding-bottom: 0.4em;background-color: white;}#sk-container-id-1 div.sk-label label {font-family: monospace;font-weight: bold;display: inline-block;line-height: 1.2em;}#sk-container-id-1 div.sk-label-container {text-align: center;}#sk-container-id-1 div.sk-container {/* jupyter's `normalize.less` sets `[hidden] { display: none; }` but bootstrap.min.css set `[hidden] { display: none !important; }` so we also need the `!important` here to be able to override the default hidden behavior on the sphinx rendered scikit-learn.org. See: https://github.com/scikit-learn/scikit-learn/issues/21755 */display: inline-block !important;position: relative;}#sk-container-id-1 div.sk-text-repr-fallback {display: none;}</style><div id=\"sk-container-id-1\" class=\"sk-top-container\"><div class=\"sk-text-repr-fallback\"><pre>SVC()</pre><b>In a Jupyter environment, please rerun this cell to show the HTML representation or trust the notebook. <br />On GitHub, the HTML representation is unable to render, please try loading this page with nbviewer.org.</b></div><div class=\"sk-container\" hidden><div class=\"sk-item\"><div class=\"sk-estimator sk-toggleable\"><input class=\"sk-toggleable__control sk-hidden--visually\" id=\"sk-estimator-id-1\" type=\"checkbox\" checked><label for=\"sk-estimator-id-1\" class=\"sk-toggleable__label sk-toggleable__label-arrow\">SVC</label><div class=\"sk-toggleable__content\"><pre>SVC()</pre></div></div></div></div></div>"
      ],
      "text/plain": [
       "SVC()"
      ]
     },
     "execution_count": 33,
     "metadata": {},
     "output_type": "execute_result"
    }
   ],
   "source": [
    "mymodel(svm)"
   ]
  },
  {
   "cell_type": "code",
   "execution_count": 43,
   "id": "1fc4e9ed",
   "metadata": {},
   "outputs": [],
   "source": [
    "x = [1.0,10.0,100.0,500.0,1000.0]\n",
    "y = [0.1,0.2,0.3,0.4,0.5,0.6,0.7,0.8,0.9]\n",
    "z = [2,3,4]    \n",
    "parameters=[{'C': x,'kernel': ['linear']},\n",
    "            {'C': x,'kernel': ['rbf'],'gamma': y} ,\n",
    "            {'C': x,'kernel': ['poly'],'gamma': y,'degree': z}\n",
    "           ]\n",
    "gridsearch=GridSearchCV(estimator = svm,\n",
    "                        param_grid = parameters,\n",
    "                        scoring='accuracy',\n",
    "                        cv=10,\n",
    "                        n_jobs=-1)\n",
    "gridsearch=gridsearch.fit(x_train,y_train)"
   ]
  },
  {
   "cell_type": "code",
   "execution_count": 44,
   "id": "8b2991b2",
   "metadata": {},
   "outputs": [
    {
     "data": {
      "text/plain": [
       "0.9087774661056567"
      ]
     },
     "execution_count": 44,
     "metadata": {},
     "output_type": "execute_result"
    }
   ],
   "source": [
    "#accuracy for first 1000 entries\n",
    "accuracy=gridsearch.best_score_\n",
    "accuracy"
   ]
  },
  {
   "cell_type": "code",
   "execution_count": null,
   "id": "6e3d4716",
   "metadata": {},
   "outputs": [],
   "source": [
    "x = [1.0,10.0,100.0,500.0,1000.0]\n",
    "y = [0.1,0.2,0.3,0.4,0.5,0.6,0.7,0.8,0.9]\n",
    "z = [2,3,4]    \n",
    "parameters=[{'C': x,'kernel': ['linear']},\n",
    "            {'C': x,'kernel': ['rbf'],'gamma': y} ,\n",
    "            {'C': x,'kernel': ['poly'],'gamma': y,'degree': z}\n",
    "           ]\n",
    "gridsearch=GridSearchCV(estimator = svm,\n",
    "                        param_grid = parameters,\n",
    "                        scoring='accuracy',\n",
    "                        cv=10,\n",
    "                        n_jobs=-1)\n",
    "gridsearch=gridsearch.fit(x_train,y_train)"
   ]
  },
  {
   "cell_type": "code",
   "execution_count": null,
   "id": "b5b86d71",
   "metadata": {},
   "outputs": [],
   "source": [
    "print(\"Logistic Reg.:\",logreg.score(x_train,y_train))\n",
    "print(\"Decision Tree:\",dt.score(x_test,y_test))\n",
    "print(\"Random Forest:\",rf.score(x_test,y_test))\n",
    "print(\"Hypertuned Logistic Reg.:\", logreg_hypertuned.score(x_train,y_train))\n",
    "print(\"Hypertuned Decision Tree:\", dt_hypertuned.score(x_train, y_train))\n",
    "print(\"Hypertuned Random Forest:\", rf_hypertuned.score(x_train, y_train))"
   ]
  },
  {
   "cell_type": "code",
   "execution_count": null,
   "id": "a0174c01",
   "metadata": {},
   "outputs": [],
   "source": []
  },
  {
   "cell_type": "code",
   "execution_count": null,
   "id": "24d449d0",
   "metadata": {},
   "outputs": [],
   "source": [
    "df2 = x_test\n",
    "df2['prediction'] = y_pred\n",
    "df2['actual'] = y_test"
   ]
  },
  {
   "cell_type": "code",
   "execution_count": null,
   "id": "bfaccfca",
   "metadata": {},
   "outputs": [],
   "source": [
    "df2.to_csv(\"pred.csv\")"
   ]
  },
  {
   "cell_type": "code",
   "execution_count": null,
   "id": "6efa664e",
   "metadata": {},
   "outputs": [],
   "source": []
  }
 ],
 "metadata": {
  "kernelspec": {
   "display_name": "Python 3 (ipykernel)",
   "language": "python",
   "name": "python3"
  },
  "language_info": {
   "codemirror_mode": {
    "name": "ipython",
    "version": 3
   },
   "file_extension": ".py",
   "mimetype": "text/x-python",
   "name": "python",
   "nbconvert_exporter": "python",
   "pygments_lexer": "ipython3",
   "version": "3.11.5"
  }
 },
 "nbformat": 4,
 "nbformat_minor": 5
}
