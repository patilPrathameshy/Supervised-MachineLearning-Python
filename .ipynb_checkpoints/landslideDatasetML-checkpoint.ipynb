{
 "cells": [
  {
   "cell_type": "code",
   "execution_count": null,
   "id": "b8731a39",
   "metadata": {},
   "outputs": [],
   "source": [
    "import numpy as np\n",
    "import matplotlib.pyplot as plt\n",
    "import pandas as pd\n",
    "import warnings\n",
    "#importing warnings and filtering out warnings to ignore it\n",
    "warnings.filterwarnings(\"ignore\")"
   ]
  },
  {
   "cell_type": "code",
   "execution_count": null,
   "id": "9a5dc740",
   "metadata": {},
   "outputs": [],
   "source": [
    "#reading csv data using pandas\n",
    "df = pd.read_csv('LandslideDataset.csv')"
   ]
  },
  {
   "cell_type": "code",
   "execution_count": null,
   "id": "e3a00482",
   "metadata": {
    "scrolled": false
   },
   "outputs": [],
   "source": [
    "#reading top 5 records\n",
    "df.head()"
   ]
  },
  {
   "cell_type": "code",
   "execution_count": null,
   "id": "e67dff39",
   "metadata": {},
   "outputs": [],
   "source": [
    "df = df.drop(\"date\", axis=1)"
   ]
  },
  {
   "cell_type": "code",
   "execution_count": null,
   "id": "d27bb25d",
   "metadata": {},
   "outputs": [],
   "source": [
    "#reading top 5 records\n",
    "df.head()"
   ]
  },
  {
   "cell_type": "code",
   "execution_count": null,
   "id": "922b0292",
   "metadata": {},
   "outputs": [],
   "source": [
    "#info helps get quick insite on data fields - null counts, data type and column count with that dtype, total records, total columns\n",
    "df.info()"
   ]
  },
  {
   "cell_type": "code",
   "execution_count": null,
   "id": "04ade08d",
   "metadata": {
    "scrolled": true
   },
   "outputs": [],
   "source": [
    "#gives null count for records in each column\n",
    "df.isnull().sum()"
   ]
  },
  {
   "cell_type": "code",
   "execution_count": null,
   "id": "6611bc0d",
   "metadata": {
    "scrolled": true
   },
   "outputs": [],
   "source": [
    "df[\"lon\"].value_counts(dropna=False)"
   ]
  },
  {
   "cell_type": "code",
   "execution_count": null,
   "id": "ea0ac1db",
   "metadata": {},
   "outputs": [],
   "source": [
    "#removing row having NaN data\n",
    "df = df[df['lat'].notna()]"
   ]
  },
  {
   "cell_type": "code",
   "execution_count": null,
   "id": "698f3823",
   "metadata": {},
   "outputs": [],
   "source": [
    "#gives null count for records in each column\n",
    "df.isnull().sum()"
   ]
  },
  {
   "cell_type": "code",
   "execution_count": null,
   "id": "9dbf3d23",
   "metadata": {},
   "outputs": [],
   "source": [
    "#gets measure of central tendancy along with q1, q2, q3\n",
    "df.describe()"
   ]
  },
  {
   "cell_type": "code",
   "execution_count": null,
   "id": "99eab4da",
   "metadata": {},
   "outputs": [],
   "source": [
    "#separating data into x and y i.e separating into features and target\n",
    "features = df.iloc[:,:-1]\n",
    "target = df.iloc[:,-1]"
   ]
  },
  {
   "cell_type": "code",
   "execution_count": null,
   "id": "5cf57263",
   "metadata": {
    "scrolled": true
   },
   "outputs": [],
   "source": [
    "features"
   ]
  },
  {
   "cell_type": "code",
   "execution_count": null,
   "id": "c6a6639c",
   "metadata": {},
   "outputs": [],
   "source": [
    "target"
   ]
  },
  {
   "cell_type": "markdown",
   "id": "f7c52005",
   "metadata": {},
   "source": [
    "## Data Cleaning is not required as we don't have any numberical column as object"
   ]
  },
  {
   "cell_type": "markdown",
   "id": "3a901263",
   "metadata": {},
   "source": [
    "## Label Encoding"
   ]
  },
  {
   "cell_type": "code",
   "execution_count": null,
   "id": "b5e0b51c",
   "metadata": {},
   "outputs": [],
   "source": [
    "# separating numerical and categorical columns\n",
    "num_cols = df.select_dtypes([\"int\", \"float\"])\n",
    "cat_cols = df.select_dtypes([\"object\"])"
   ]
  },
  {
   "cell_type": "code",
   "execution_count": null,
   "id": "2523e3e3",
   "metadata": {},
   "outputs": [],
   "source": [
    "from sklearn.preprocessing import LabelEncoder"
   ]
  },
  {
   "cell_type": "code",
   "execution_count": null,
   "id": "f747343b",
   "metadata": {},
   "outputs": [],
   "source": [
    "le = LabelEncoder()"
   ]
  },
  {
   "cell_type": "code",
   "execution_count": null,
   "id": "6048c519",
   "metadata": {},
   "outputs": [],
   "source": [
    "for i in cat_cols:\n",
    "    cat_cols[i] = le.fit_transform(cat_cols[i])"
   ]
  },
  {
   "cell_type": "markdown",
   "id": "63f607cb",
   "metadata": {},
   "source": [
    "## Scaling numerical columns"
   ]
  },
  {
   "cell_type": "code",
   "execution_count": null,
   "id": "855d6bdf",
   "metadata": {},
   "outputs": [],
   "source": [
    "from sklearn.preprocessing import StandardScaler"
   ]
  },
  {
   "cell_type": "code",
   "execution_count": null,
   "id": "4de08da9",
   "metadata": {},
   "outputs": [],
   "source": [
    "sc = StandardScaler()"
   ]
  },
  {
   "cell_type": "code",
   "execution_count": null,
   "id": "a4a86c91",
   "metadata": {},
   "outputs": [],
   "source": [
    "num_cols_scaled = sc.fit_transform(num_cols)"
   ]
  },
  {
   "cell_type": "code",
   "execution_count": null,
   "id": "eb924a9e",
   "metadata": {},
   "outputs": [],
   "source": [
    "for i in range(len(num_cols.columns)):\n",
    "    num_cols[num_cols.columns[i]] = num_cols_scaled[:,i]"
   ]
  },
  {
   "cell_type": "code",
   "execution_count": null,
   "id": "d3763c3a",
   "metadata": {
    "scrolled": true
   },
   "outputs": [],
   "source": [
    "cat_cols"
   ]
  },
  {
   "cell_type": "markdown",
   "id": "9812d4f1",
   "metadata": {},
   "source": [
    "## Concatinating Scaled numerical cols and label encoded categorical cols"
   ]
  },
  {
   "cell_type": "code",
   "execution_count": null,
   "id": "b5a7e33c",
   "metadata": {},
   "outputs": [],
   "source": [
    "df1 = pd.concat([num_cols,cat_cols], axis=1)\n",
    "x = df1.iloc[:,:-1]\n",
    "y = df1.iloc[:,-1]"
   ]
  },
  {
   "cell_type": "code",
   "execution_count": null,
   "id": "b94ee84b",
   "metadata": {
    "scrolled": true
   },
   "outputs": [],
   "source": [
    "y.value_counts()"
   ]
  },
  {
   "cell_type": "code",
   "execution_count": null,
   "id": "f0e8b8c7",
   "metadata": {
    "scrolled": true
   },
   "outputs": [],
   "source": [
    "plt.figure(figsize=(3,3))\n",
    "y.value_counts().plot(kind='bar')\n",
    "plt.xticks(rotation=0)\n",
    "plt.grid()\n",
    "plt.show()"
   ]
  },
  {
   "cell_type": "markdown",
   "id": "e49bba7e",
   "metadata": {},
   "source": [
    "## Data is imbalanced , need to do sampling using Oversampling or Undersampling"
   ]
  },
  {
   "cell_type": "code",
   "execution_count": null,
   "id": "0de28236",
   "metadata": {},
   "outputs": [],
   "source": [
    "#!pip install imblearn"
   ]
  },
  {
   "cell_type": "code",
   "execution_count": null,
   "id": "598613a3",
   "metadata": {},
   "outputs": [],
   "source": []
  },
  {
   "cell_type": "code",
   "execution_count": null,
   "id": "f6b926ad",
   "metadata": {
    "scrolled": true
   },
   "outputs": [],
   "source": [
    "from imblearn.over_sampling import RandomOverSampler\n",
    "ros = RandomOverSampler(random_state=42)\n",
    "x_ros, y_ros = ros.fit_resample(x, y)\n",
    "x=x_ros\n",
    "y=y_ros"
   ]
  },
  {
   "cell_type": "code",
   "execution_count": null,
   "id": "1bc79666",
   "metadata": {
    "scrolled": true
   },
   "outputs": [],
   "source": [
    "y_ros.value_counts()"
   ]
  },
  {
   "cell_type": "code",
   "execution_count": null,
   "id": "0a83fb59",
   "metadata": {
    "scrolled": true
   },
   "outputs": [],
   "source": [
    "plt.figure(figsize=(3,3))\n",
    "y_ros.value_counts().plot(kind='bar')\n",
    "plt.xticks(rotation=0)\n",
    "plt.grid()\n",
    "plt.show()"
   ]
  },
  {
   "cell_type": "markdown",
   "id": "55acee8d",
   "metadata": {},
   "source": [
    "## The Data is cleaned and can be used for training"
   ]
  },
  {
   "cell_type": "code",
   "execution_count": null,
   "id": "20341a49",
   "metadata": {},
   "outputs": [],
   "source": [
    "from sklearn.model_selection import train_test_split\n",
    "from sklearn.linear_model import LogisticRegression\n",
    "from sklearn.neighbors import KNeighborsClassifier\n",
    "from sklearn.tree import DecisionTreeClassifier\n",
    "from sklearn.ensemble import RandomForestClassifier\n",
    "from sklearn.svm import SVC\n",
    "from sklearn.metrics import classification_report"
   ]
  },
  {
   "cell_type": "code",
   "execution_count": null,
   "id": "31df8525",
   "metadata": {},
   "outputs": [],
   "source": [
    "# Spliting dataset into train and test data\n",
    "x_train, x_test, y_train, y_test = train_test_split(x, y, test_size=0.3, random_state=42)"
   ]
  },
  {
   "cell_type": "code",
   "execution_count": null,
   "id": "d43567a0",
   "metadata": {},
   "outputs": [],
   "source": [
    "logreg = LogisticRegression()\n",
    "knn = KNeighborsClassifier()\n",
    "dt = DecisionTreeClassifier()\n",
    "rf = RandomForestClassifier(random_state=42)\n",
    "svm = SVC()"
   ]
  },
  {
   "cell_type": "code",
   "execution_count": null,
   "id": "4af8fcec",
   "metadata": {},
   "outputs": [],
   "source": [
    "def mymodel(model):\n",
    "    model.fit(x_train,y_train)\n",
    "    y_pred = model.predict(x_test)\n",
    "    print(classification_report(y_test,y_pred))\n",
    "    return model"
   ]
  },
  {
   "cell_type": "code",
   "execution_count": null,
   "id": "515426b7",
   "metadata": {},
   "outputs": [],
   "source": [
    "mymodel(logreg)"
   ]
  },
  {
   "cell_type": "code",
   "execution_count": null,
   "id": "6dc3b689",
   "metadata": {},
   "outputs": [],
   "source": [
    "mymodel(logreg)"
   ]
  },
  {
   "cell_type": "code",
   "execution_count": null,
   "id": "c1d1e2e6",
   "metadata": {},
   "outputs": [],
   "source": [
    "mymodel(knn)"
   ]
  },
  {
   "cell_type": "code",
   "execution_count": null,
   "id": "873e448e",
   "metadata": {},
   "outputs": [],
   "source": [
    "mymodel(dt)"
   ]
  },
  {
   "cell_type": "code",
   "execution_count": null,
   "id": "98daec35",
   "metadata": {},
   "outputs": [],
   "source": [
    "mymodel(rf)"
   ]
  },
  {
   "cell_type": "code",
   "execution_count": null,
   "id": "40187fab",
   "metadata": {},
   "outputs": [],
   "source": [
    "mymodel(svm)"
   ]
  },
  {
   "cell_type": "markdown",
   "id": "b4cedaeb",
   "metadata": {},
   "source": [
    "# Hyperparameter Tuning using GridSearchCV"
   ]
  },
  {
   "cell_type": "code",
   "execution_count": null,
   "id": "6ad1971a",
   "metadata": {},
   "outputs": [],
   "source": [
    "from sklearn.model_selection import GridSearchCV"
   ]
  },
  {
   "cell_type": "code",
   "execution_count": null,
   "id": "4edee943",
   "metadata": {},
   "outputs": [],
   "source": [
    "#,'newton-cg'\n",
    "parameters={'solver':['poly','liblinear','lbfgs','saga','sag'],'penalty':['none','l1','l2','elasticnet'],'C':[100,10,1,0.1,0.01]}\n",
    "gs=GridSearchCV(logreg,parameters,verbose=3)"
   ]
  },
  {
   "cell_type": "code",
   "execution_count": null,
   "id": "da3974bd",
   "metadata": {},
   "outputs": [],
   "source": [
    "gs.fit(x_train,y_train)"
   ]
  },
  {
   "cell_type": "code",
   "execution_count": null,
   "id": "75e02675",
   "metadata": {},
   "outputs": [],
   "source": [
    "gs.best_params_"
   ]
  },
  {
   "cell_type": "code",
   "execution_count": null,
   "id": "1ba4af01",
   "metadata": {},
   "outputs": [],
   "source": [
    "logreg=LogisticRegression(C=100,penalty='none',solver='lbfgs')\n",
    "\n",
    "logreg.fit(x_train,y_train)\n",
    "y_pred = logreg.predict(x_test)\n",
    "print(classification_report(y_test,y_pred))"
   ]
  },
  {
   "cell_type": "markdown",
   "id": "4ee058dd",
   "metadata": {},
   "source": [
    "# GridSearchCV For Decision Tree"
   ]
  },
  {
   "cell_type": "code",
   "execution_count": null,
   "id": "f7568fb4",
   "metadata": {},
   "outputs": [],
   "source": [
    "parameters={'max_depth':['none',10,20,30],'min_samples_split':[2,5,10],'min_samples_leaf':[1,2,4]}\n",
    "gs=GridSearchCV(dt,parameters,verbose=3)"
   ]
  },
  {
   "cell_type": "code",
   "execution_count": null,
   "id": "7085c6e5",
   "metadata": {},
   "outputs": [],
   "source": [
    "gs.fit(x_train,y_train)"
   ]
  },
  {
   "cell_type": "code",
   "execution_count": null,
   "id": "de2a7578",
   "metadata": {},
   "outputs": [],
   "source": [
    "gs.best_params_"
   ]
  },
  {
   "cell_type": "code",
   "execution_count": null,
   "id": "25083d16",
   "metadata": {},
   "outputs": [],
   "source": [
    "dt=DecisionTreeClassifier(max_depth=10,min_samples_leaf=1,min_samples_split=2)\n",
    "                          \n",
    "dt.fit(x_train,y_train)\n",
    "y_pred = dt.predict(x_test)\n",
    "print(classification_report(y_test,y_pred))"
   ]
  },
  {
   "cell_type": "code",
   "execution_count": null,
   "id": "9ff5962a",
   "metadata": {},
   "outputs": [],
   "source": [
    "logreg.score(x_train,y_train)"
   ]
  },
  {
   "cell_type": "code",
   "execution_count": null,
   "id": "42a0132d",
   "metadata": {},
   "outputs": [],
   "source": [
    "logreg.score(x_test,y_test)"
   ]
  },
  {
   "cell_type": "code",
   "execution_count": null,
   "id": "8894205e",
   "metadata": {},
   "outputs": [],
   "source": [
    "y_pred"
   ]
  },
  {
   "cell_type": "code",
   "execution_count": null,
   "id": "24d449d0",
   "metadata": {},
   "outputs": [],
   "source": [
    "df2 = x_test\n",
    "df2['prediction'] = y_pred\n",
    "df2['actual'] = y_test"
   ]
  },
  {
   "cell_type": "code",
   "execution_count": null,
   "id": "bfaccfca",
   "metadata": {},
   "outputs": [],
   "source": [
    "df2.to_csv(\"pred.csv\")"
   ]
  },
  {
   "cell_type": "code",
   "execution_count": null,
   "id": "6efa664e",
   "metadata": {},
   "outputs": [],
   "source": []
  }
 ],
 "metadata": {
  "kernelspec": {
   "display_name": "Python 3 (ipykernel)",
   "language": "python",
   "name": "python3"
  },
  "language_info": {
   "codemirror_mode": {
    "name": "ipython",
    "version": 3
   },
   "file_extension": ".py",
   "mimetype": "text/x-python",
   "name": "python",
   "nbconvert_exporter": "python",
   "pygments_lexer": "ipython3",
   "version": "3.11.5"
  }
 },
 "nbformat": 4,
 "nbformat_minor": 5
}
